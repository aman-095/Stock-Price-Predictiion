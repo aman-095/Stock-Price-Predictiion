{
  "nbformat": 4,
  "nbformat_minor": 0,
  "metadata": {
    "colab": {
      "name": "Stock_Price_Prediction.ipynb",
      "provenance": [],
      "collapsed_sections": []
    },
    "kernelspec": {
      "name": "python3",
      "display_name": "Python 3"
    },
    "language_info": {
      "name": "python"
    }
  },
  "cells": [
    {
      "cell_type": "code",
      "execution_count": 1,
      "metadata": {
        "id": "c3NrpIJngaZl"
      },
      "outputs": [],
      "source": [
        "import numpy as np\n",
        "import pandas as pd\n",
        "import numpy as np\n",
        "import keras\n",
        "from keras.models import Model\n",
        "from keras.layers import Dense, Input\n",
        "from keras.layers import Dropout\n",
        "import numpy as np\n",
        "import tensorflow as tf\n",
        "import matplotlib.pyplot as plt\n",
        "from keras import Sequential\n"
      ]
    },
    {
      "cell_type": "code",
      "source": [
        "import pandas as pd\n",
        "from google.colab import drive\n",
        "drive.mount('/content/drive', force_remount=True)"
      ],
      "metadata": {
        "colab": {
          "base_uri": "https://localhost:8080/"
        },
        "id": "VdpmenTdgvSK",
        "outputId": "3e973f05-51d3-4ba9-829d-cc477c32a0a1"
      },
      "execution_count": 2,
      "outputs": [
        {
          "output_type": "stream",
          "name": "stdout",
          "text": [
            "Mounted at /content/drive\n"
          ]
        }
      ]
    },
    {
      "cell_type": "code",
      "source": [
        "data = pd.read_csv(\"/content/drive/MyDrive/Google_Stock_Price_Train.csv\")"
      ],
      "metadata": {
        "id": "T10Itz3QhpHG"
      },
      "execution_count": 3,
      "outputs": []
    },
    {
      "cell_type": "code",
      "source": [
        "data.head()"
      ],
      "metadata": {
        "colab": {
          "base_uri": "https://localhost:8080/",
          "height": 206
        },
        "id": "n7ydSxH1iDDP",
        "outputId": "0fe47988-5074-4b2a-9931-c48f89d72bff"
      },
      "execution_count": 4,
      "outputs": [
        {
          "output_type": "execute_result",
          "data": {
            "text/plain": [
              "       Date    Open    High     Low   Close      Volume\n",
              "0  1/3/2012  325.25  332.83  324.97  663.59   7,380,500\n",
              "1  1/4/2012  331.27  333.87  329.08  666.45   5,749,400\n",
              "2  1/5/2012  329.83  330.75  326.89  657.21   6,590,300\n",
              "3  1/6/2012  328.34  328.77  323.68  648.24   5,405,900\n",
              "4  1/9/2012  322.04  322.29  309.46  620.76  11,688,800"
            ],
            "text/html": [
              "\n",
              "  <div id=\"df-89f4929d-75b0-4f16-94ad-5f07c6d653b6\">\n",
              "    <div class=\"colab-df-container\">\n",
              "      <div>\n",
              "<style scoped>\n",
              "    .dataframe tbody tr th:only-of-type {\n",
              "        vertical-align: middle;\n",
              "    }\n",
              "\n",
              "    .dataframe tbody tr th {\n",
              "        vertical-align: top;\n",
              "    }\n",
              "\n",
              "    .dataframe thead th {\n",
              "        text-align: right;\n",
              "    }\n",
              "</style>\n",
              "<table border=\"1\" class=\"dataframe\">\n",
              "  <thead>\n",
              "    <tr style=\"text-align: right;\">\n",
              "      <th></th>\n",
              "      <th>Date</th>\n",
              "      <th>Open</th>\n",
              "      <th>High</th>\n",
              "      <th>Low</th>\n",
              "      <th>Close</th>\n",
              "      <th>Volume</th>\n",
              "    </tr>\n",
              "  </thead>\n",
              "  <tbody>\n",
              "    <tr>\n",
              "      <th>0</th>\n",
              "      <td>1/3/2012</td>\n",
              "      <td>325.25</td>\n",
              "      <td>332.83</td>\n",
              "      <td>324.97</td>\n",
              "      <td>663.59</td>\n",
              "      <td>7,380,500</td>\n",
              "    </tr>\n",
              "    <tr>\n",
              "      <th>1</th>\n",
              "      <td>1/4/2012</td>\n",
              "      <td>331.27</td>\n",
              "      <td>333.87</td>\n",
              "      <td>329.08</td>\n",
              "      <td>666.45</td>\n",
              "      <td>5,749,400</td>\n",
              "    </tr>\n",
              "    <tr>\n",
              "      <th>2</th>\n",
              "      <td>1/5/2012</td>\n",
              "      <td>329.83</td>\n",
              "      <td>330.75</td>\n",
              "      <td>326.89</td>\n",
              "      <td>657.21</td>\n",
              "      <td>6,590,300</td>\n",
              "    </tr>\n",
              "    <tr>\n",
              "      <th>3</th>\n",
              "      <td>1/6/2012</td>\n",
              "      <td>328.34</td>\n",
              "      <td>328.77</td>\n",
              "      <td>323.68</td>\n",
              "      <td>648.24</td>\n",
              "      <td>5,405,900</td>\n",
              "    </tr>\n",
              "    <tr>\n",
              "      <th>4</th>\n",
              "      <td>1/9/2012</td>\n",
              "      <td>322.04</td>\n",
              "      <td>322.29</td>\n",
              "      <td>309.46</td>\n",
              "      <td>620.76</td>\n",
              "      <td>11,688,800</td>\n",
              "    </tr>\n",
              "  </tbody>\n",
              "</table>\n",
              "</div>\n",
              "      <button class=\"colab-df-convert\" onclick=\"convertToInteractive('df-89f4929d-75b0-4f16-94ad-5f07c6d653b6')\"\n",
              "              title=\"Convert this dataframe to an interactive table.\"\n",
              "              style=\"display:none;\">\n",
              "        \n",
              "  <svg xmlns=\"http://www.w3.org/2000/svg\" height=\"24px\"viewBox=\"0 0 24 24\"\n",
              "       width=\"24px\">\n",
              "    <path d=\"M0 0h24v24H0V0z\" fill=\"none\"/>\n",
              "    <path d=\"M18.56 5.44l.94 2.06.94-2.06 2.06-.94-2.06-.94-.94-2.06-.94 2.06-2.06.94zm-11 1L8.5 8.5l.94-2.06 2.06-.94-2.06-.94L8.5 2.5l-.94 2.06-2.06.94zm10 10l.94 2.06.94-2.06 2.06-.94-2.06-.94-.94-2.06-.94 2.06-2.06.94z\"/><path d=\"M17.41 7.96l-1.37-1.37c-.4-.4-.92-.59-1.43-.59-.52 0-1.04.2-1.43.59L10.3 9.45l-7.72 7.72c-.78.78-.78 2.05 0 2.83L4 21.41c.39.39.9.59 1.41.59.51 0 1.02-.2 1.41-.59l7.78-7.78 2.81-2.81c.8-.78.8-2.07 0-2.86zM5.41 20L4 18.59l7.72-7.72 1.47 1.35L5.41 20z\"/>\n",
              "  </svg>\n",
              "      </button>\n",
              "      \n",
              "  <style>\n",
              "    .colab-df-container {\n",
              "      display:flex;\n",
              "      flex-wrap:wrap;\n",
              "      gap: 12px;\n",
              "    }\n",
              "\n",
              "    .colab-df-convert {\n",
              "      background-color: #E8F0FE;\n",
              "      border: none;\n",
              "      border-radius: 50%;\n",
              "      cursor: pointer;\n",
              "      display: none;\n",
              "      fill: #1967D2;\n",
              "      height: 32px;\n",
              "      padding: 0 0 0 0;\n",
              "      width: 32px;\n",
              "    }\n",
              "\n",
              "    .colab-df-convert:hover {\n",
              "      background-color: #E2EBFA;\n",
              "      box-shadow: 0px 1px 2px rgba(60, 64, 67, 0.3), 0px 1px 3px 1px rgba(60, 64, 67, 0.15);\n",
              "      fill: #174EA6;\n",
              "    }\n",
              "\n",
              "    [theme=dark] .colab-df-convert {\n",
              "      background-color: #3B4455;\n",
              "      fill: #D2E3FC;\n",
              "    }\n",
              "\n",
              "    [theme=dark] .colab-df-convert:hover {\n",
              "      background-color: #434B5C;\n",
              "      box-shadow: 0px 1px 3px 1px rgba(0, 0, 0, 0.15);\n",
              "      filter: drop-shadow(0px 1px 2px rgba(0, 0, 0, 0.3));\n",
              "      fill: #FFFFFF;\n",
              "    }\n",
              "  </style>\n",
              "\n",
              "      <script>\n",
              "        const buttonEl =\n",
              "          document.querySelector('#df-89f4929d-75b0-4f16-94ad-5f07c6d653b6 button.colab-df-convert');\n",
              "        buttonEl.style.display =\n",
              "          google.colab.kernel.accessAllowed ? 'block' : 'none';\n",
              "\n",
              "        async function convertToInteractive(key) {\n",
              "          const element = document.querySelector('#df-89f4929d-75b0-4f16-94ad-5f07c6d653b6');\n",
              "          const dataTable =\n",
              "            await google.colab.kernel.invokeFunction('convertToInteractive',\n",
              "                                                     [key], {});\n",
              "          if (!dataTable) return;\n",
              "\n",
              "          const docLinkHtml = 'Like what you see? Visit the ' +\n",
              "            '<a target=\"_blank\" href=https://colab.research.google.com/notebooks/data_table.ipynb>data table notebook</a>'\n",
              "            + ' to learn more about interactive tables.';\n",
              "          element.innerHTML = '';\n",
              "          dataTable['output_type'] = 'display_data';\n",
              "          await google.colab.output.renderOutput(dataTable, element);\n",
              "          const docLink = document.createElement('div');\n",
              "          docLink.innerHTML = docLinkHtml;\n",
              "          element.appendChild(docLink);\n",
              "        }\n",
              "      </script>\n",
              "    </div>\n",
              "  </div>\n",
              "  "
            ]
          },
          "metadata": {},
          "execution_count": 4
        }
      ]
    },
    {
      "cell_type": "code",
      "source": [
        "data.describe()"
      ],
      "metadata": {
        "colab": {
          "base_uri": "https://localhost:8080/",
          "height": 300
        },
        "id": "nk2ECC3eDFPX",
        "outputId": "f5029f32-fdd8-4d4f-d7de-3673d0ffb6e0"
      },
      "execution_count": null,
      "outputs": [
        {
          "output_type": "execute_result",
          "data": {
            "text/plain": [
              "              Open         High          Low\n",
              "count  1258.000000  1258.000000  1258.000000\n",
              "mean    533.709833   537.880223   529.007409\n",
              "std     151.904442   153.008811   150.552807\n",
              "min     279.120000   281.210000   277.220000\n",
              "25%     404.115000   406.765000   401.765000\n",
              "50%     537.470000   540.750000   532.990000\n",
              "75%     654.922500   662.587500   644.800000\n",
              "max     816.680000   816.680000   805.140000"
            ],
            "text/html": [
              "\n",
              "  <div id=\"df-fd2ac6eb-f723-46c8-81c0-0edd71192ab6\">\n",
              "    <div class=\"colab-df-container\">\n",
              "      <div>\n",
              "<style scoped>\n",
              "    .dataframe tbody tr th:only-of-type {\n",
              "        vertical-align: middle;\n",
              "    }\n",
              "\n",
              "    .dataframe tbody tr th {\n",
              "        vertical-align: top;\n",
              "    }\n",
              "\n",
              "    .dataframe thead th {\n",
              "        text-align: right;\n",
              "    }\n",
              "</style>\n",
              "<table border=\"1\" class=\"dataframe\">\n",
              "  <thead>\n",
              "    <tr style=\"text-align: right;\">\n",
              "      <th></th>\n",
              "      <th>Open</th>\n",
              "      <th>High</th>\n",
              "      <th>Low</th>\n",
              "    </tr>\n",
              "  </thead>\n",
              "  <tbody>\n",
              "    <tr>\n",
              "      <th>count</th>\n",
              "      <td>1258.000000</td>\n",
              "      <td>1258.000000</td>\n",
              "      <td>1258.000000</td>\n",
              "    </tr>\n",
              "    <tr>\n",
              "      <th>mean</th>\n",
              "      <td>533.709833</td>\n",
              "      <td>537.880223</td>\n",
              "      <td>529.007409</td>\n",
              "    </tr>\n",
              "    <tr>\n",
              "      <th>std</th>\n",
              "      <td>151.904442</td>\n",
              "      <td>153.008811</td>\n",
              "      <td>150.552807</td>\n",
              "    </tr>\n",
              "    <tr>\n",
              "      <th>min</th>\n",
              "      <td>279.120000</td>\n",
              "      <td>281.210000</td>\n",
              "      <td>277.220000</td>\n",
              "    </tr>\n",
              "    <tr>\n",
              "      <th>25%</th>\n",
              "      <td>404.115000</td>\n",
              "      <td>406.765000</td>\n",
              "      <td>401.765000</td>\n",
              "    </tr>\n",
              "    <tr>\n",
              "      <th>50%</th>\n",
              "      <td>537.470000</td>\n",
              "      <td>540.750000</td>\n",
              "      <td>532.990000</td>\n",
              "    </tr>\n",
              "    <tr>\n",
              "      <th>75%</th>\n",
              "      <td>654.922500</td>\n",
              "      <td>662.587500</td>\n",
              "      <td>644.800000</td>\n",
              "    </tr>\n",
              "    <tr>\n",
              "      <th>max</th>\n",
              "      <td>816.680000</td>\n",
              "      <td>816.680000</td>\n",
              "      <td>805.140000</td>\n",
              "    </tr>\n",
              "  </tbody>\n",
              "</table>\n",
              "</div>\n",
              "      <button class=\"colab-df-convert\" onclick=\"convertToInteractive('df-fd2ac6eb-f723-46c8-81c0-0edd71192ab6')\"\n",
              "              title=\"Convert this dataframe to an interactive table.\"\n",
              "              style=\"display:none;\">\n",
              "        \n",
              "  <svg xmlns=\"http://www.w3.org/2000/svg\" height=\"24px\"viewBox=\"0 0 24 24\"\n",
              "       width=\"24px\">\n",
              "    <path d=\"M0 0h24v24H0V0z\" fill=\"none\"/>\n",
              "    <path d=\"M18.56 5.44l.94 2.06.94-2.06 2.06-.94-2.06-.94-.94-2.06-.94 2.06-2.06.94zm-11 1L8.5 8.5l.94-2.06 2.06-.94-2.06-.94L8.5 2.5l-.94 2.06-2.06.94zm10 10l.94 2.06.94-2.06 2.06-.94-2.06-.94-.94-2.06-.94 2.06-2.06.94z\"/><path d=\"M17.41 7.96l-1.37-1.37c-.4-.4-.92-.59-1.43-.59-.52 0-1.04.2-1.43.59L10.3 9.45l-7.72 7.72c-.78.78-.78 2.05 0 2.83L4 21.41c.39.39.9.59 1.41.59.51 0 1.02-.2 1.41-.59l7.78-7.78 2.81-2.81c.8-.78.8-2.07 0-2.86zM5.41 20L4 18.59l7.72-7.72 1.47 1.35L5.41 20z\"/>\n",
              "  </svg>\n",
              "      </button>\n",
              "      \n",
              "  <style>\n",
              "    .colab-df-container {\n",
              "      display:flex;\n",
              "      flex-wrap:wrap;\n",
              "      gap: 12px;\n",
              "    }\n",
              "\n",
              "    .colab-df-convert {\n",
              "      background-color: #E8F0FE;\n",
              "      border: none;\n",
              "      border-radius: 50%;\n",
              "      cursor: pointer;\n",
              "      display: none;\n",
              "      fill: #1967D2;\n",
              "      height: 32px;\n",
              "      padding: 0 0 0 0;\n",
              "      width: 32px;\n",
              "    }\n",
              "\n",
              "    .colab-df-convert:hover {\n",
              "      background-color: #E2EBFA;\n",
              "      box-shadow: 0px 1px 2px rgba(60, 64, 67, 0.3), 0px 1px 3px 1px rgba(60, 64, 67, 0.15);\n",
              "      fill: #174EA6;\n",
              "    }\n",
              "\n",
              "    [theme=dark] .colab-df-convert {\n",
              "      background-color: #3B4455;\n",
              "      fill: #D2E3FC;\n",
              "    }\n",
              "\n",
              "    [theme=dark] .colab-df-convert:hover {\n",
              "      background-color: #434B5C;\n",
              "      box-shadow: 0px 1px 3px 1px rgba(0, 0, 0, 0.15);\n",
              "      filter: drop-shadow(0px 1px 2px rgba(0, 0, 0, 0.3));\n",
              "      fill: #FFFFFF;\n",
              "    }\n",
              "  </style>\n",
              "\n",
              "      <script>\n",
              "        const buttonEl =\n",
              "          document.querySelector('#df-fd2ac6eb-f723-46c8-81c0-0edd71192ab6 button.colab-df-convert');\n",
              "        buttonEl.style.display =\n",
              "          google.colab.kernel.accessAllowed ? 'block' : 'none';\n",
              "\n",
              "        async function convertToInteractive(key) {\n",
              "          const element = document.querySelector('#df-fd2ac6eb-f723-46c8-81c0-0edd71192ab6');\n",
              "          const dataTable =\n",
              "            await google.colab.kernel.invokeFunction('convertToInteractive',\n",
              "                                                     [key], {});\n",
              "          if (!dataTable) return;\n",
              "\n",
              "          const docLinkHtml = 'Like what you see? Visit the ' +\n",
              "            '<a target=\"_blank\" href=https://colab.research.google.com/notebooks/data_table.ipynb>data table notebook</a>'\n",
              "            + ' to learn more about interactive tables.';\n",
              "          element.innerHTML = '';\n",
              "          dataTable['output_type'] = 'display_data';\n",
              "          await google.colab.output.renderOutput(dataTable, element);\n",
              "          const docLink = document.createElement('div');\n",
              "          docLink.innerHTML = docLinkHtml;\n",
              "          element.appendChild(docLink);\n",
              "        }\n",
              "      </script>\n",
              "    </div>\n",
              "  </div>\n",
              "  "
            ]
          },
          "metadata": {},
          "execution_count": 5
        }
      ]
    },
    {
      "cell_type": "code",
      "source": [
        "data.isna().sum()"
      ],
      "metadata": {
        "colab": {
          "base_uri": "https://localhost:8080/"
        },
        "id": "Q0ROKu2qDKyW",
        "outputId": "1470cb83-97a6-4835-c5ad-7ac61c953bad"
      },
      "execution_count": null,
      "outputs": [
        {
          "output_type": "execute_result",
          "data": {
            "text/plain": [
              "Date      0\n",
              "Open      0\n",
              "High      0\n",
              "Low       0\n",
              "Close     0\n",
              "Volume    0\n",
              "dtype: int64"
            ]
          },
          "metadata": {},
          "execution_count": 6
        }
      ]
    },
    {
      "cell_type": "markdown",
      "source": [
        "DATA PREPROCESSING FOR VISUALISATION"
      ],
      "metadata": {
        "id": "yeIDRW48EEKQ"
      }
    },
    {
      "cell_type": "code",
      "source": [
        "train_close = data.iloc[:, 4:5].values\n",
        "train_vol = data.iloc[:, 5:6].values\n",
        "print(train_close)\n",
        "print(train_vol)"
      ],
      "metadata": {
        "colab": {
          "base_uri": "https://localhost:8080/"
        },
        "id": "o87DYis6EDWQ",
        "outputId": "1b25b84a-253e-49b1-99ae-c040611c734f"
      },
      "execution_count": null,
      "outputs": [
        {
          "output_type": "stream",
          "name": "stdout",
          "text": [
            "[['663.59']\n",
            " ['666.45']\n",
            " ['657.21']\n",
            " ...\n",
            " ['785.05']\n",
            " ['782.79']\n",
            " ['771.82']]\n",
            "[['7,380,500']\n",
            " ['5,749,400']\n",
            " ['6,590,300']\n",
            " ...\n",
            " ['1,153,800']\n",
            " ['744,300']\n",
            " ['1,770,000']]\n"
          ]
        }
      ]
    },
    {
      "cell_type": "code",
      "source": [
        "train_close_=[]\n",
        "train_close = train_close.flatten()\n",
        "for i in range(len(train_close)):\n",
        "\n",
        "  b = ''.join(str(train_close[i]).split(','))\n",
        "  train_close_.append(float(b))\n",
        "train_close_ = np.array(train_close_)"
      ],
      "metadata": {
        "id": "qy5HfmtuENKz"
      },
      "execution_count": null,
      "outputs": []
    },
    {
      "cell_type": "code",
      "source": [
        "train_vol_=[]\n",
        "train_vol = train_vol.flatten()\n",
        "for i in range(len(train_vol)):\n",
        "\n",
        "  b = ''.join(str(train_vol[i]).split(','))\n",
        "  train_vol_.append(float(b))\n",
        "train_vol_ = np.array(train_vol_)"
      ],
      "metadata": {
        "id": "T_UXO-bqERIc"
      },
      "execution_count": null,
      "outputs": []
    },
    {
      "cell_type": "code",
      "source": [
        "train_close_2D = np.reshape(train_close_, (len(train_close), 1))\n",
        "train_vol_2D = np.reshape(train_vol_, (len(train_vol), 1))"
      ],
      "metadata": {
        "id": "wseR4FJWEboX"
      },
      "execution_count": null,
      "outputs": []
    },
    {
      "cell_type": "code",
      "source": [
        "df = data.copy()\n",
        "df.pop(\"Close\")\n",
        "df.pop(\"Volume\")"
      ],
      "metadata": {
        "colab": {
          "base_uri": "https://localhost:8080/"
        },
        "id": "aaReEddFEh5a",
        "outputId": "d64fda03-2862-4819-a9a7-b19c7b85a50d"
      },
      "execution_count": null,
      "outputs": [
        {
          "output_type": "execute_result",
          "data": {
            "text/plain": [
              "0        7,380,500\n",
              "1        5,749,400\n",
              "2        6,590,300\n",
              "3        5,405,900\n",
              "4       11,688,800\n",
              "           ...    \n",
              "1253       623,400\n",
              "1254       789,100\n",
              "1255     1,153,800\n",
              "1256       744,300\n",
              "1257     1,770,000\n",
              "Name: Volume, Length: 1258, dtype: object"
            ]
          },
          "metadata": {},
          "execution_count": 11
        }
      ]
    },
    {
      "cell_type": "code",
      "source": [
        "df[\"Close\"] = train_close_2D\n",
        "df[\"Volume\"] = train_vol_2D\n",
        "df.head()"
      ],
      "metadata": {
        "colab": {
          "base_uri": "https://localhost:8080/",
          "height": 206
        },
        "id": "-PFcHK_1E1tB",
        "outputId": "3627b1de-4ae1-432b-ef38-177de66c163d"
      },
      "execution_count": null,
      "outputs": [
        {
          "output_type": "execute_result",
          "data": {
            "text/plain": [
              "       Date    Open    High     Low   Close      Volume\n",
              "0  1/3/2012  325.25  332.83  324.97  663.59   7380500.0\n",
              "1  1/4/2012  331.27  333.87  329.08  666.45   5749400.0\n",
              "2  1/5/2012  329.83  330.75  326.89  657.21   6590300.0\n",
              "3  1/6/2012  328.34  328.77  323.68  648.24   5405900.0\n",
              "4  1/9/2012  322.04  322.29  309.46  620.76  11688800.0"
            ],
            "text/html": [
              "\n",
              "  <div id=\"df-249bf0d4-dc8e-43de-b3fa-ce45b11557c0\">\n",
              "    <div class=\"colab-df-container\">\n",
              "      <div>\n",
              "<style scoped>\n",
              "    .dataframe tbody tr th:only-of-type {\n",
              "        vertical-align: middle;\n",
              "    }\n",
              "\n",
              "    .dataframe tbody tr th {\n",
              "        vertical-align: top;\n",
              "    }\n",
              "\n",
              "    .dataframe thead th {\n",
              "        text-align: right;\n",
              "    }\n",
              "</style>\n",
              "<table border=\"1\" class=\"dataframe\">\n",
              "  <thead>\n",
              "    <tr style=\"text-align: right;\">\n",
              "      <th></th>\n",
              "      <th>Date</th>\n",
              "      <th>Open</th>\n",
              "      <th>High</th>\n",
              "      <th>Low</th>\n",
              "      <th>Close</th>\n",
              "      <th>Volume</th>\n",
              "    </tr>\n",
              "  </thead>\n",
              "  <tbody>\n",
              "    <tr>\n",
              "      <th>0</th>\n",
              "      <td>1/3/2012</td>\n",
              "      <td>325.25</td>\n",
              "      <td>332.83</td>\n",
              "      <td>324.97</td>\n",
              "      <td>663.59</td>\n",
              "      <td>7380500.0</td>\n",
              "    </tr>\n",
              "    <tr>\n",
              "      <th>1</th>\n",
              "      <td>1/4/2012</td>\n",
              "      <td>331.27</td>\n",
              "      <td>333.87</td>\n",
              "      <td>329.08</td>\n",
              "      <td>666.45</td>\n",
              "      <td>5749400.0</td>\n",
              "    </tr>\n",
              "    <tr>\n",
              "      <th>2</th>\n",
              "      <td>1/5/2012</td>\n",
              "      <td>329.83</td>\n",
              "      <td>330.75</td>\n",
              "      <td>326.89</td>\n",
              "      <td>657.21</td>\n",
              "      <td>6590300.0</td>\n",
              "    </tr>\n",
              "    <tr>\n",
              "      <th>3</th>\n",
              "      <td>1/6/2012</td>\n",
              "      <td>328.34</td>\n",
              "      <td>328.77</td>\n",
              "      <td>323.68</td>\n",
              "      <td>648.24</td>\n",
              "      <td>5405900.0</td>\n",
              "    </tr>\n",
              "    <tr>\n",
              "      <th>4</th>\n",
              "      <td>1/9/2012</td>\n",
              "      <td>322.04</td>\n",
              "      <td>322.29</td>\n",
              "      <td>309.46</td>\n",
              "      <td>620.76</td>\n",
              "      <td>11688800.0</td>\n",
              "    </tr>\n",
              "  </tbody>\n",
              "</table>\n",
              "</div>\n",
              "      <button class=\"colab-df-convert\" onclick=\"convertToInteractive('df-249bf0d4-dc8e-43de-b3fa-ce45b11557c0')\"\n",
              "              title=\"Convert this dataframe to an interactive table.\"\n",
              "              style=\"display:none;\">\n",
              "        \n",
              "  <svg xmlns=\"http://www.w3.org/2000/svg\" height=\"24px\"viewBox=\"0 0 24 24\"\n",
              "       width=\"24px\">\n",
              "    <path d=\"M0 0h24v24H0V0z\" fill=\"none\"/>\n",
              "    <path d=\"M18.56 5.44l.94 2.06.94-2.06 2.06-.94-2.06-.94-.94-2.06-.94 2.06-2.06.94zm-11 1L8.5 8.5l.94-2.06 2.06-.94-2.06-.94L8.5 2.5l-.94 2.06-2.06.94zm10 10l.94 2.06.94-2.06 2.06-.94-2.06-.94-.94-2.06-.94 2.06-2.06.94z\"/><path d=\"M17.41 7.96l-1.37-1.37c-.4-.4-.92-.59-1.43-.59-.52 0-1.04.2-1.43.59L10.3 9.45l-7.72 7.72c-.78.78-.78 2.05 0 2.83L4 21.41c.39.39.9.59 1.41.59.51 0 1.02-.2 1.41-.59l7.78-7.78 2.81-2.81c.8-.78.8-2.07 0-2.86zM5.41 20L4 18.59l7.72-7.72 1.47 1.35L5.41 20z\"/>\n",
              "  </svg>\n",
              "      </button>\n",
              "      \n",
              "  <style>\n",
              "    .colab-df-container {\n",
              "      display:flex;\n",
              "      flex-wrap:wrap;\n",
              "      gap: 12px;\n",
              "    }\n",
              "\n",
              "    .colab-df-convert {\n",
              "      background-color: #E8F0FE;\n",
              "      border: none;\n",
              "      border-radius: 50%;\n",
              "      cursor: pointer;\n",
              "      display: none;\n",
              "      fill: #1967D2;\n",
              "      height: 32px;\n",
              "      padding: 0 0 0 0;\n",
              "      width: 32px;\n",
              "    }\n",
              "\n",
              "    .colab-df-convert:hover {\n",
              "      background-color: #E2EBFA;\n",
              "      box-shadow: 0px 1px 2px rgba(60, 64, 67, 0.3), 0px 1px 3px 1px rgba(60, 64, 67, 0.15);\n",
              "      fill: #174EA6;\n",
              "    }\n",
              "\n",
              "    [theme=dark] .colab-df-convert {\n",
              "      background-color: #3B4455;\n",
              "      fill: #D2E3FC;\n",
              "    }\n",
              "\n",
              "    [theme=dark] .colab-df-convert:hover {\n",
              "      background-color: #434B5C;\n",
              "      box-shadow: 0px 1px 3px 1px rgba(0, 0, 0, 0.15);\n",
              "      filter: drop-shadow(0px 1px 2px rgba(0, 0, 0, 0.3));\n",
              "      fill: #FFFFFF;\n",
              "    }\n",
              "  </style>\n",
              "\n",
              "      <script>\n",
              "        const buttonEl =\n",
              "          document.querySelector('#df-249bf0d4-dc8e-43de-b3fa-ce45b11557c0 button.colab-df-convert');\n",
              "        buttonEl.style.display =\n",
              "          google.colab.kernel.accessAllowed ? 'block' : 'none';\n",
              "\n",
              "        async function convertToInteractive(key) {\n",
              "          const element = document.querySelector('#df-249bf0d4-dc8e-43de-b3fa-ce45b11557c0');\n",
              "          const dataTable =\n",
              "            await google.colab.kernel.invokeFunction('convertToInteractive',\n",
              "                                                     [key], {});\n",
              "          if (!dataTable) return;\n",
              "\n",
              "          const docLinkHtml = 'Like what you see? Visit the ' +\n",
              "            '<a target=\"_blank\" href=https://colab.research.google.com/notebooks/data_table.ipynb>data table notebook</a>'\n",
              "            + ' to learn more about interactive tables.';\n",
              "          element.innerHTML = '';\n",
              "          dataTable['output_type'] = 'display_data';\n",
              "          await google.colab.output.renderOutput(dataTable, element);\n",
              "          const docLink = document.createElement('div');\n",
              "          docLink.innerHTML = docLinkHtml;\n",
              "          element.appendChild(docLink);\n",
              "        }\n",
              "      </script>\n",
              "    </div>\n",
              "  </div>\n",
              "  "
            ]
          },
          "metadata": {},
          "execution_count": 12
        }
      ]
    },
    {
      "cell_type": "code",
      "source": [
        "df.describe()"
      ],
      "metadata": {
        "colab": {
          "base_uri": "https://localhost:8080/",
          "height": 300
        },
        "id": "B9sgl_pyGAY7",
        "outputId": "ee987ec5-abbc-4652-f013-38118da030a2"
      },
      "execution_count": null,
      "outputs": [
        {
          "output_type": "execute_result",
          "data": {
            "text/plain": [
              "              Open         High          Low        Close        Volume\n",
              "count  1258.000000  1258.000000  1258.000000  1258.000000  1.258000e+03\n",
              "mean    533.709833   537.880223   529.007409   712.669666  3.158107e+06\n",
              "std     151.904442   153.008811   150.552807   164.752591  2.273726e+06\n",
              "min     279.120000   281.210000   277.220000   491.200000  7.900000e+03\n",
              "25%     404.115000   406.765000   401.765000   576.740000  1.621700e+06\n",
              "50%     537.470000   540.750000   532.990000   695.675000  2.566150e+06\n",
              "75%     654.922500   662.587500   644.800000   782.105000  4.122500e+06\n",
              "max     816.680000   816.680000   805.140000  1216.830000  2.497790e+07"
            ],
            "text/html": [
              "\n",
              "  <div id=\"df-cc433643-05ff-434e-933f-e33db217ecea\">\n",
              "    <div class=\"colab-df-container\">\n",
              "      <div>\n",
              "<style scoped>\n",
              "    .dataframe tbody tr th:only-of-type {\n",
              "        vertical-align: middle;\n",
              "    }\n",
              "\n",
              "    .dataframe tbody tr th {\n",
              "        vertical-align: top;\n",
              "    }\n",
              "\n",
              "    .dataframe thead th {\n",
              "        text-align: right;\n",
              "    }\n",
              "</style>\n",
              "<table border=\"1\" class=\"dataframe\">\n",
              "  <thead>\n",
              "    <tr style=\"text-align: right;\">\n",
              "      <th></th>\n",
              "      <th>Open</th>\n",
              "      <th>High</th>\n",
              "      <th>Low</th>\n",
              "      <th>Close</th>\n",
              "      <th>Volume</th>\n",
              "    </tr>\n",
              "  </thead>\n",
              "  <tbody>\n",
              "    <tr>\n",
              "      <th>count</th>\n",
              "      <td>1258.000000</td>\n",
              "      <td>1258.000000</td>\n",
              "      <td>1258.000000</td>\n",
              "      <td>1258.000000</td>\n",
              "      <td>1.258000e+03</td>\n",
              "    </tr>\n",
              "    <tr>\n",
              "      <th>mean</th>\n",
              "      <td>533.709833</td>\n",
              "      <td>537.880223</td>\n",
              "      <td>529.007409</td>\n",
              "      <td>712.669666</td>\n",
              "      <td>3.158107e+06</td>\n",
              "    </tr>\n",
              "    <tr>\n",
              "      <th>std</th>\n",
              "      <td>151.904442</td>\n",
              "      <td>153.008811</td>\n",
              "      <td>150.552807</td>\n",
              "      <td>164.752591</td>\n",
              "      <td>2.273726e+06</td>\n",
              "    </tr>\n",
              "    <tr>\n",
              "      <th>min</th>\n",
              "      <td>279.120000</td>\n",
              "      <td>281.210000</td>\n",
              "      <td>277.220000</td>\n",
              "      <td>491.200000</td>\n",
              "      <td>7.900000e+03</td>\n",
              "    </tr>\n",
              "    <tr>\n",
              "      <th>25%</th>\n",
              "      <td>404.115000</td>\n",
              "      <td>406.765000</td>\n",
              "      <td>401.765000</td>\n",
              "      <td>576.740000</td>\n",
              "      <td>1.621700e+06</td>\n",
              "    </tr>\n",
              "    <tr>\n",
              "      <th>50%</th>\n",
              "      <td>537.470000</td>\n",
              "      <td>540.750000</td>\n",
              "      <td>532.990000</td>\n",
              "      <td>695.675000</td>\n",
              "      <td>2.566150e+06</td>\n",
              "    </tr>\n",
              "    <tr>\n",
              "      <th>75%</th>\n",
              "      <td>654.922500</td>\n",
              "      <td>662.587500</td>\n",
              "      <td>644.800000</td>\n",
              "      <td>782.105000</td>\n",
              "      <td>4.122500e+06</td>\n",
              "    </tr>\n",
              "    <tr>\n",
              "      <th>max</th>\n",
              "      <td>816.680000</td>\n",
              "      <td>816.680000</td>\n",
              "      <td>805.140000</td>\n",
              "      <td>1216.830000</td>\n",
              "      <td>2.497790e+07</td>\n",
              "    </tr>\n",
              "  </tbody>\n",
              "</table>\n",
              "</div>\n",
              "      <button class=\"colab-df-convert\" onclick=\"convertToInteractive('df-cc433643-05ff-434e-933f-e33db217ecea')\"\n",
              "              title=\"Convert this dataframe to an interactive table.\"\n",
              "              style=\"display:none;\">\n",
              "        \n",
              "  <svg xmlns=\"http://www.w3.org/2000/svg\" height=\"24px\"viewBox=\"0 0 24 24\"\n",
              "       width=\"24px\">\n",
              "    <path d=\"M0 0h24v24H0V0z\" fill=\"none\"/>\n",
              "    <path d=\"M18.56 5.44l.94 2.06.94-2.06 2.06-.94-2.06-.94-.94-2.06-.94 2.06-2.06.94zm-11 1L8.5 8.5l.94-2.06 2.06-.94-2.06-.94L8.5 2.5l-.94 2.06-2.06.94zm10 10l.94 2.06.94-2.06 2.06-.94-2.06-.94-.94-2.06-.94 2.06-2.06.94z\"/><path d=\"M17.41 7.96l-1.37-1.37c-.4-.4-.92-.59-1.43-.59-.52 0-1.04.2-1.43.59L10.3 9.45l-7.72 7.72c-.78.78-.78 2.05 0 2.83L4 21.41c.39.39.9.59 1.41.59.51 0 1.02-.2 1.41-.59l7.78-7.78 2.81-2.81c.8-.78.8-2.07 0-2.86zM5.41 20L4 18.59l7.72-7.72 1.47 1.35L5.41 20z\"/>\n",
              "  </svg>\n",
              "      </button>\n",
              "      \n",
              "  <style>\n",
              "    .colab-df-container {\n",
              "      display:flex;\n",
              "      flex-wrap:wrap;\n",
              "      gap: 12px;\n",
              "    }\n",
              "\n",
              "    .colab-df-convert {\n",
              "      background-color: #E8F0FE;\n",
              "      border: none;\n",
              "      border-radius: 50%;\n",
              "      cursor: pointer;\n",
              "      display: none;\n",
              "      fill: #1967D2;\n",
              "      height: 32px;\n",
              "      padding: 0 0 0 0;\n",
              "      width: 32px;\n",
              "    }\n",
              "\n",
              "    .colab-df-convert:hover {\n",
              "      background-color: #E2EBFA;\n",
              "      box-shadow: 0px 1px 2px rgba(60, 64, 67, 0.3), 0px 1px 3px 1px rgba(60, 64, 67, 0.15);\n",
              "      fill: #174EA6;\n",
              "    }\n",
              "\n",
              "    [theme=dark] .colab-df-convert {\n",
              "      background-color: #3B4455;\n",
              "      fill: #D2E3FC;\n",
              "    }\n",
              "\n",
              "    [theme=dark] .colab-df-convert:hover {\n",
              "      background-color: #434B5C;\n",
              "      box-shadow: 0px 1px 3px 1px rgba(0, 0, 0, 0.15);\n",
              "      filter: drop-shadow(0px 1px 2px rgba(0, 0, 0, 0.3));\n",
              "      fill: #FFFFFF;\n",
              "    }\n",
              "  </style>\n",
              "\n",
              "      <script>\n",
              "        const buttonEl =\n",
              "          document.querySelector('#df-cc433643-05ff-434e-933f-e33db217ecea button.colab-df-convert');\n",
              "        buttonEl.style.display =\n",
              "          google.colab.kernel.accessAllowed ? 'block' : 'none';\n",
              "\n",
              "        async function convertToInteractive(key) {\n",
              "          const element = document.querySelector('#df-cc433643-05ff-434e-933f-e33db217ecea');\n",
              "          const dataTable =\n",
              "            await google.colab.kernel.invokeFunction('convertToInteractive',\n",
              "                                                     [key], {});\n",
              "          if (!dataTable) return;\n",
              "\n",
              "          const docLinkHtml = 'Like what you see? Visit the ' +\n",
              "            '<a target=\"_blank\" href=https://colab.research.google.com/notebooks/data_table.ipynb>data table notebook</a>'\n",
              "            + ' to learn more about interactive tables.';\n",
              "          element.innerHTML = '';\n",
              "          dataTable['output_type'] = 'display_data';\n",
              "          await google.colab.output.renderOutput(dataTable, element);\n",
              "          const docLink = document.createElement('div');\n",
              "          docLink.innerHTML = docLinkHtml;\n",
              "          element.appendChild(docLink);\n",
              "        }\n",
              "      </script>\n",
              "    </div>\n",
              "  </div>\n",
              "  "
            ]
          },
          "metadata": {},
          "execution_count": 13
        }
      ]
    },
    {
      "cell_type": "markdown",
      "source": [
        "DATA VISUALISATION\n"
      ],
      "metadata": {
        "id": "l3T-uCUuDs1V"
      }
    },
    {
      "cell_type": "code",
      "source": [
        "df.plot(subplots=True, figsize=(10, 12))"
      ],
      "metadata": {
        "colab": {
          "base_uri": "https://localhost:8080/",
          "height": 808
        },
        "id": "ifvUD-g0DUno",
        "outputId": "3d0a8e57-8503-49a6-d062-dfb0d318e577"
      },
      "execution_count": null,
      "outputs": [
        {
          "output_type": "execute_result",
          "data": {
            "text/plain": [
              "array([<matplotlib.axes._subplots.AxesSubplot object at 0x7fc84a691c50>,\n",
              "       <matplotlib.axes._subplots.AxesSubplot object at 0x7fc84a676350>,\n",
              "       <matplotlib.axes._subplots.AxesSubplot object at 0x7fc84a632690>,\n",
              "       <matplotlib.axes._subplots.AxesSubplot object at 0x7fc84a5e99d0>,\n",
              "       <matplotlib.axes._subplots.AxesSubplot object at 0x7fc84a5a2d10>],\n",
              "      dtype=object)"
            ]
          },
          "metadata": {},
          "execution_count": 14
        },
        {
          "output_type": "display_data",
          "data": {
            "text/plain": [
              "<Figure size 720x864 with 5 Axes>"
            ],
            "image/png": "[encoded data removed]"
          },
          "metadata": {
            "needs_background": "light"
          }
        }
      ]
    },
    {
      "cell_type": "code",
      "source": [
        ""
      ],
      "metadata": {
        "id": "Itz9PMveQewl"
      },
      "execution_count": null,
      "outputs": []
    },
    {
      "cell_type": "markdown",
      "source": [
        "Rolling\n"
      ],
      "metadata": {
        "id": "biDyeXW6Qfye"
      }
    },
    {
      "cell_type": "code",
      "source": [
        "plt.figure(figsize=(15, 8))\n",
        "df_open = df[['Date', 'Open']]\n",
        "df_open['Date'] = pd.to_datetime(df_open['Date'])\n",
        "rolling_open = df_open.Open.rolling(10).mean()\n",
        "plt.plot(df_open.Date, df_open.Open)\n",
        "plt.plot(df_open.Date, rolling_open)\n",
        "plt.legend(['Open_Price', 'Rolling Price'])\n",
        "plt.show()"
      ],
      "metadata": {
        "colab": {
          "base_uri": "https://localhost:8080/",
          "height": 611
        },
        "id": "-Misg8gVGhcZ",
        "outputId": "47ed9a2c-649a-478f-9276-9e6dc15fec09"
      },
      "execution_count": null,
      "outputs": [
        {
          "output_type": "stream",
          "name": "stderr",
          "text": [
            "/usr/local/lib/python3.7/dist-packages/ipykernel_launcher.py:3: SettingWithCopyWarning: \n",
            "A value is trying to be set on a copy of a slice from a DataFrame.\n",
            "Try using .loc[row_indexer,col_indexer] = value instead\n",
            "\n",
            "See the caveats in the documentation: https://pandas.pydata.org/pandas-docs/stable/user_guide/indexing.html#returning-a-view-versus-a-copy\n",
            "  This is separate from the ipykernel package so we can avoid doing imports until\n"
          ]
        },
        {
          "output_type": "display_data",
          "data": {
            "text/plain": [
              "<Figure size 1080x576 with 1 Axes>"
            ],
            "image/png": "[encoded data removed]"
          },
          "metadata": {
            "needs_background": "light"
          }
        }
      ]
    },
    {
      "cell_type": "code",
      "source": [
        "from statsmodels.tsa.seasonal import seasonal_decompose\n",
        "df_open['Date'] = pd.to_datetime(df_open['Date'])\n",
        "\n",
        "components = seasonal_decompose(df_open['Open'], model='multiplicative', freq = 360)\n",
        " \n",
        "components.plot()"
      ],
      "metadata": {
        "colab": {
          "base_uri": "https://localhost:8080/",
          "height": 741
        },
        "id": "DVveSyulSh0q",
        "outputId": "da90ac21-0738-4ce5-9208-b663c46d7abc"
      },
      "execution_count": null,
      "outputs": [
        {
          "output_type": "stream",
          "name": "stderr",
          "text": [
            "/usr/local/lib/python3.7/dist-packages/statsmodels/tools/_testing.py:19: FutureWarning: pandas.util.testing is deprecated. Use the functions in the public API at pandas.testing instead.\n",
            "  import pandas.util.testing as tm\n",
            "/usr/local/lib/python3.7/dist-packages/ipykernel_launcher.py:2: SettingWithCopyWarning: \n",
            "A value is trying to be set on a copy of a slice from a DataFrame.\n",
            "Try using .loc[row_indexer,col_indexer] = value instead\n",
            "\n",
            "See the caveats in the documentation: https://pandas.pydata.org/pandas-docs/stable/user_guide/indexing.html#returning-a-view-versus-a-copy\n",
            "  \n"
          ]
        },
        {
          "output_type": "execute_result",
          "data": {
            "text/plain": [
              "<Figure size 432x288 with 4 Axes>"
            ],
            "image/png": "[encoded data removed]"
          },
          "metadata": {},
          "execution_count": 16
        },
        {
          "output_type": "display_data",
          "data": {
            "text/plain": [
              "<Figure size 432x288 with 4 Axes>"
            ],
            "image/png": "[encoded data removed]"
          },
          "metadata": {
            "needs_background": "light"
          }
        }
      ]
    },
    {
      "cell_type": "code",
      "source": [
        "from statsmodels.graphics.tsaplots import plot_acf\n",
        "plot_acf(df_open['Open'])\n",
        "plt.show ()"
      ],
      "metadata": {
        "colab": {
          "base_uri": "https://localhost:8080/",
          "height": 281
        },
        "id": "h2ZThambV7tQ",
        "outputId": "18b43948-8c09-4d28-eec6-5bce8d5c5c79"
      },
      "execution_count": null,
      "outputs": [
        {
          "output_type": "display_data",
          "data": {
            "text/plain": [
              "<Figure size 432x288 with 1 Axes>"
            ],
            "image/png": "[encoded data removed]"
          },
          "metadata": {
            "needs_background": "light"
          }
        }
      ]
    },
    {
      "cell_type": "markdown",
      "source": [
        "Preprocessing for Model Training"
      ],
      "metadata": {
        "id": "O9E2IhoKTyfH"
      }
    },
    {
      "cell_type": "code",
      "source": [
        "train_open = data.iloc[:, 1:2].values\n",
        "train_high = data.iloc[:, 2:3].values\n",
        "train_low = data.iloc[:, 3:4].values\n",
        "train_close = data.iloc[:, 4:5].values\n",
        "train_vol = data.iloc[:, 5:6].values"
      ],
      "metadata": {
        "id": "TG4Aw9uSiJWF"
      },
      "execution_count": 5,
      "outputs": []
    },
    {
      "cell_type": "code",
      "source": [
        "train_close"
      ],
      "metadata": {
        "colab": {
          "base_uri": "https://localhost:8080/"
        },
        "id": "AF1H3jQx2eGW",
        "outputId": "440a7729-91c2-4a94-f549-2e0fff93fcde"
      },
      "execution_count": 6,
      "outputs": [
        {
          "output_type": "execute_result",
          "data": {
            "text/plain": [
              "array([['663.59'],\n",
              "       ['666.45'],\n",
              "       ['657.21'],\n",
              "       ...,\n",
              "       ['785.05'],\n",
              "       ['782.79'],\n",
              "       ['771.82']], dtype=object)"
            ]
          },
          "metadata": {},
          "execution_count": 6
        }
      ]
    },
    {
      "cell_type": "code",
      "source": [
        "train_close_=[]\n",
        "train_close = train_close.flatten()\n",
        "for i in range(len(train_close)):\n",
        "\n",
        "  b = ''.join(str(train_close[i]).split(','))\n",
        "  train_close_.append(float(b))\n",
        "train_close_ = np.array(train_close_)"
      ],
      "metadata": {
        "id": "dMN5XbA_MFPM"
      },
      "execution_count": 7,
      "outputs": []
    },
    {
      "cell_type": "code",
      "source": [
        "train_vol_=[]\n",
        "train_vol = train_vol.flatten()\n",
        "for i in range(len(train_vol)):\n",
        "\n",
        "  b = ''.join(str(train_vol[i]).split(','))\n",
        "  train_vol_.append(float(b))\n",
        "train_vol_ = np.array(train_vol_)"
      ],
      "metadata": {
        "id": "zUppK1tmQExb"
      },
      "execution_count": 8,
      "outputs": []
    },
    {
      "cell_type": "code",
      "source": [
        "train_close_2D = np.reshape(train_close_, (len(train_close), 1))\n",
        "train_vol_2D = np.reshape(train_vol_, (len(train_vol), 1))\n"
      ],
      "metadata": {
        "id": "qu0-ZfoLMbx3"
      },
      "execution_count": 9,
      "outputs": []
    },
    {
      "cell_type": "code",
      "source": [
        "from sklearn.preprocessing import MinMaxScaler\n",
        "mms_open = MinMaxScaler(feature_range = (0, 1))\n",
        "mms_high = MinMaxScaler(feature_range = (0, 1))\n",
        "mms_low = MinMaxScaler(feature_range = (0, 1))\n",
        "mms_close = MinMaxScaler(feature_range = (0, 1))\n",
        "mms_vol = MinMaxScaler(feature_range = (0, 1))\n",
        "\n",
        "train_open_mms = mms_open.fit_transform(train_open)\n",
        "train_high_mms = mms_high.fit_transform(train_high)\n",
        "train_low_mms = mms_low.fit_transform(train_low)\n",
        "train_close_mms = mms_close.fit_transform(train_close_2D)\n",
        "train_vol_mms = mms_vol.fit_transform(train_vol_2D)"
      ],
      "metadata": {
        "id": "7osxhQ6OKOP-"
      },
      "execution_count": 10,
      "outputs": []
    },
    {
      "cell_type": "code",
      "source": [
        "train_open_mms.flatten()"
      ],
      "metadata": {
        "colab": {
          "base_uri": "https://localhost:8080/"
        },
        "id": "CSpqbbZmtYm8",
        "outputId": "00dc4fcf-b7d8-484f-b577-e4fb69821f7d"
      },
      "execution_count": 11,
      "outputs": [
        {
          "output_type": "execute_result",
          "data": {
            "text/plain": [
              "array([0.08581368, 0.09701243, 0.09433366, ..., 0.95725128, 0.93796041,\n",
              "       0.93688146])"
            ]
          },
          "metadata": {},
          "execution_count": 11
        }
      ]
    },
    {
      "cell_type": "code",
      "source": [
        "import matplotlib.pyplot as plt"
      ],
      "metadata": {
        "id": "GN0zP_bBSMio"
      },
      "execution_count": 12,
      "outputs": []
    },
    {
      "cell_type": "code",
      "source": [
        "data_test = pd.read_csv(\"/content/drive/MyDrive/Google_Stock_Price_Test.csv\")"
      ],
      "metadata": {
        "id": "hMI1dTjmVxlN"
      },
      "execution_count": 13,
      "outputs": []
    },
    {
      "cell_type": "code",
      "source": [
        "data_test"
      ],
      "metadata": {
        "colab": {
          "base_uri": "https://localhost:8080/",
          "height": 676
        },
        "id": "yrJ_021IV31G",
        "outputId": "e5929d13-6a55-42e5-ba44-a551fdb59dc8"
      },
      "execution_count": null,
      "outputs": [
        {
          "output_type": "execute_result",
          "data": {
            "text/plain": [
              "         Date    Open    High     Low   Close     Volume\n",
              "0    1/3/2017  778.81  789.63  775.80  786.14  1,657,300\n",
              "1    1/4/2017  788.36  791.34  783.16  786.90  1,073,000\n",
              "2    1/5/2017  786.08  794.48  785.02  794.02  1,335,200\n",
              "3    1/6/2017  795.26  807.90  792.20  806.15  1,640,200\n",
              "4    1/9/2017  806.40  809.97  802.83  806.65  1,272,400\n",
              "5   1/10/2017  807.86  809.13  803.51  804.79  1,176,800\n",
              "6   1/11/2017  805.00  808.15  801.37  807.91  1,065,900\n",
              "7   1/12/2017  807.14  807.39  799.17  806.36  1,353,100\n",
              "8   1/13/2017  807.48  811.22  806.69  807.88  1,099,200\n",
              "9   1/17/2017  807.08  807.14  800.37  804.61  1,362,100\n",
              "10  1/18/2017  805.81  806.21  800.99  806.07  1,294,400\n",
              "11  1/19/2017  805.12  809.48  801.80  802.17    919,300\n",
              "12  1/20/2017  806.91  806.91  801.69  805.02  1,670,000\n",
              "13  1/23/2017  807.25  820.87  803.74  819.31  1,963,600\n",
              "14  1/24/2017  822.30  825.90  817.82  823.87  1,474,000\n",
              "15  1/25/2017  829.62  835.77  825.06  835.67  1,494,500\n",
              "16  1/26/2017  837.81  838.00  827.01  832.15  2,973,900\n",
              "17  1/27/2017  834.71  841.95  820.44  823.31  2,965,800\n",
              "18  1/30/2017  814.66  815.84  799.80  802.32  3,246,600\n",
              "19  1/31/2017  796.86  801.25  790.52  796.79  2,160,600"
            ],
            "text/html": [
              "\n",
              "  <div id=\"df-363ce3df-f29a-478c-954f-91e835fff365\">\n",
              "    <div class=\"colab-df-container\">\n",
              "      <div>\n",
              "<style scoped>\n",
              "    .dataframe tbody tr th:only-of-type {\n",
              "        vertical-align: middle;\n",
              "    }\n",
              "\n",
              "    .dataframe tbody tr th {\n",
              "        vertical-align: top;\n",
              "    }\n",
              "\n",
              "    .dataframe thead th {\n",
              "        text-align: right;\n",
              "    }\n",
              "</style>\n",
              "<table border=\"1\" class=\"dataframe\">\n",
              "  <thead>\n",
              "    <tr style=\"text-align: right;\">\n",
              "      <th></th>\n",
              "      <th>Date</th>\n",
              "      <th>Open</th>\n",
              "      <th>High</th>\n",
              "      <th>Low</th>\n",
              "      <th>Close</th>\n",
              "      <th>Volume</th>\n",
              "    </tr>\n",
              "  </thead>\n",
              "  <tbody>\n",
              "    <tr>\n",
              "      <th>0</th>\n",
              "      <td>1/3/2017</td>\n",
              "      <td>778.81</td>\n",
              "      <td>789.63</td>\n",
              "      <td>775.80</td>\n",
              "      <td>786.14</td>\n",
              "      <td>1,657,300</td>\n",
              "    </tr>\n",
              "    <tr>\n",
              "      <th>1</th>\n",
              "      <td>1/4/2017</td>\n",
              "      <td>788.36</td>\n",
              "      <td>791.34</td>\n",
              "      <td>783.16</td>\n",
              "      <td>786.90</td>\n",
              "      <td>1,073,000</td>\n",
              "    </tr>\n",
              "    <tr>\n",
              "      <th>2</th>\n",
              "      <td>1/5/2017</td>\n",
              "      <td>786.08</td>\n",
              "      <td>794.48</td>\n",
              "      <td>785.02</td>\n",
              "      <td>794.02</td>\n",
              "      <td>1,335,200</td>\n",
              "    </tr>\n",
              "    <tr>\n",
              "      <th>3</th>\n",
              "      <td>1/6/2017</td>\n",
              "      <td>795.26</td>\n",
              "      <td>807.90</td>\n",
              "      <td>792.20</td>\n",
              "      <td>806.15</td>\n",
              "      <td>1,640,200</td>\n",
              "    </tr>\n",
              "    <tr>\n",
              "      <th>4</th>\n",
              "      <td>1/9/2017</td>\n",
              "      <td>806.40</td>\n",
              "      <td>809.97</td>\n",
              "      <td>802.83</td>\n",
              "      <td>806.65</td>\n",
              "      <td>1,272,400</td>\n",
              "    </tr>\n",
              "    <tr>\n",
              "      <th>5</th>\n",
              "      <td>1/10/2017</td>\n",
              "      <td>807.86</td>\n",
              "      <td>809.13</td>\n",
              "      <td>803.51</td>\n",
              "      <td>804.79</td>\n",
              "      <td>1,176,800</td>\n",
              "    </tr>\n",
              "    <tr>\n",
              "      <th>6</th>\n",
              "      <td>1/11/2017</td>\n",
              "      <td>805.00</td>\n",
              "      <td>808.15</td>\n",
              "      <td>801.37</td>\n",
              "      <td>807.91</td>\n",
              "      <td>1,065,900</td>\n",
              "    </tr>\n",
              "    <tr>\n",
              "      <th>7</th>\n",
              "      <td>1/12/2017</td>\n",
              "      <td>807.14</td>\n",
              "      <td>807.39</td>\n",
              "      <td>799.17</td>\n",
              "      <td>806.36</td>\n",
              "      <td>1,353,100</td>\n",
              "    </tr>\n",
              "    <tr>\n",
              "      <th>8</th>\n",
              "      <td>1/13/2017</td>\n",
              "      <td>807.48</td>\n",
              "      <td>811.22</td>\n",
              "      <td>806.69</td>\n",
              "      <td>807.88</td>\n",
              "      <td>1,099,200</td>\n",
              "    </tr>\n",
              "    <tr>\n",
              "      <th>9</th>\n",
              "      <td>1/17/2017</td>\n",
              "      <td>807.08</td>\n",
              "      <td>807.14</td>\n",
              "      <td>800.37</td>\n",
              "      <td>804.61</td>\n",
              "      <td>1,362,100</td>\n",
              "    </tr>\n",
              "    <tr>\n",
              "      <th>10</th>\n",
              "      <td>1/18/2017</td>\n",
              "      <td>805.81</td>\n",
              "      <td>806.21</td>\n",
              "      <td>800.99</td>\n",
              "      <td>806.07</td>\n",
              "      <td>1,294,400</td>\n",
              "    </tr>\n",
              "    <tr>\n",
              "      <th>11</th>\n",
              "      <td>1/19/2017</td>\n",
              "      <td>805.12</td>\n",
              "      <td>809.48</td>\n",
              "      <td>801.80</td>\n",
              "      <td>802.17</td>\n",
              "      <td>919,300</td>\n",
              "    </tr>\n",
              "    <tr>\n",
              "      <th>12</th>\n",
              "      <td>1/20/2017</td>\n",
              "      <td>806.91</td>\n",
              "      <td>806.91</td>\n",
              "      <td>801.69</td>\n",
              "      <td>805.02</td>\n",
              "      <td>1,670,000</td>\n",
              "    </tr>\n",
              "    <tr>\n",
              "      <th>13</th>\n",
              "      <td>1/23/2017</td>\n",
              "      <td>807.25</td>\n",
              "      <td>820.87</td>\n",
              "      <td>803.74</td>\n",
              "      <td>819.31</td>\n",
              "      <td>1,963,600</td>\n",
              "    </tr>\n",
              "    <tr>\n",
              "      <th>14</th>\n",
              "      <td>1/24/2017</td>\n",
              "      <td>822.30</td>\n",
              "      <td>825.90</td>\n",
              "      <td>817.82</td>\n",
              "      <td>823.87</td>\n",
              "      <td>1,474,000</td>\n",
              "    </tr>\n",
              "    <tr>\n",
              "      <th>15</th>\n",
              "      <td>1/25/2017</td>\n",
              "      <td>829.62</td>\n",
              "      <td>835.77</td>\n",
              "      <td>825.06</td>\n",
              "      <td>835.67</td>\n",
              "      <td>1,494,500</td>\n",
              "    </tr>\n",
              "    <tr>\n",
              "      <th>16</th>\n",
              "      <td>1/26/2017</td>\n",
              "      <td>837.81</td>\n",
              "      <td>838.00</td>\n",
              "      <td>827.01</td>\n",
              "      <td>832.15</td>\n",
              "      <td>2,973,900</td>\n",
              "    </tr>\n",
              "    <tr>\n",
              "      <th>17</th>\n",
              "      <td>1/27/2017</td>\n",
              "      <td>834.71</td>\n",
              "      <td>841.95</td>\n",
              "      <td>820.44</td>\n",
              "      <td>823.31</td>\n",
              "      <td>2,965,800</td>\n",
              "    </tr>\n",
              "    <tr>\n",
              "      <th>18</th>\n",
              "      <td>1/30/2017</td>\n",
              "      <td>814.66</td>\n",
              "      <td>815.84</td>\n",
              "      <td>799.80</td>\n",
              "      <td>802.32</td>\n",
              "      <td>3,246,600</td>\n",
              "    </tr>\n",
              "    <tr>\n",
              "      <th>19</th>\n",
              "      <td>1/31/2017</td>\n",
              "      <td>796.86</td>\n",
              "      <td>801.25</td>\n",
              "      <td>790.52</td>\n",
              "      <td>796.79</td>\n",
              "      <td>2,160,600</td>\n",
              "    </tr>\n",
              "  </tbody>\n",
              "</table>\n",
              "</div>\n",
              "      <button class=\"colab-df-convert\" onclick=\"convertToInteractive('df-363ce3df-f29a-478c-954f-91e835fff365')\"\n",
              "              title=\"Convert this dataframe to an interactive table.\"\n",
              "              style=\"display:none;\">\n",
              "        \n",
              "  <svg xmlns=\"http://www.w3.org/2000/svg\" height=\"24px\"viewBox=\"0 0 24 24\"\n",
              "       width=\"24px\">\n",
              "    <path d=\"M0 0h24v24H0V0z\" fill=\"none\"/>\n",
              "    <path d=\"M18.56 5.44l.94 2.06.94-2.06 2.06-.94-2.06-.94-.94-2.06-.94 2.06-2.06.94zm-11 1L8.5 8.5l.94-2.06 2.06-.94-2.06-.94L8.5 2.5l-.94 2.06-2.06.94zm10 10l.94 2.06.94-2.06 2.06-.94-2.06-.94-.94-2.06-.94 2.06-2.06.94z\"/><path d=\"M17.41 7.96l-1.37-1.37c-.4-.4-.92-.59-1.43-.59-.52 0-1.04.2-1.43.59L10.3 9.45l-7.72 7.72c-.78.78-.78 2.05 0 2.83L4 21.41c.39.39.9.59 1.41.59.51 0 1.02-.2 1.41-.59l7.78-7.78 2.81-2.81c.8-.78.8-2.07 0-2.86zM5.41 20L4 18.59l7.72-7.72 1.47 1.35L5.41 20z\"/>\n",
              "  </svg>\n",
              "      </button>\n",
              "      \n",
              "  <style>\n",
              "    .colab-df-container {\n",
              "      display:flex;\n",
              "      flex-wrap:wrap;\n",
              "      gap: 12px;\n",
              "    }\n",
              "\n",
              "    .colab-df-convert {\n",
              "      background-color: #E8F0FE;\n",
              "      border: none;\n",
              "      border-radius: 50%;\n",
              "      cursor: pointer;\n",
              "      display: none;\n",
              "      fill: #1967D2;\n",
              "      height: 32px;\n",
              "      padding: 0 0 0 0;\n",
              "      width: 32px;\n",
              "    }\n",
              "\n",
              "    .colab-df-convert:hover {\n",
              "      background-color: #E2EBFA;\n",
              "      box-shadow: 0px 1px 2px rgba(60, 64, 67, 0.3), 0px 1px 3px 1px rgba(60, 64, 67, 0.15);\n",
              "      fill: #174EA6;\n",
              "    }\n",
              "\n",
              "    [theme=dark] .colab-df-convert {\n",
              "      background-color: #3B4455;\n",
              "      fill: #D2E3FC;\n",
              "    }\n",
              "\n",
              "    [theme=dark] .colab-df-convert:hover {\n",
              "      background-color: #434B5C;\n",
              "      box-shadow: 0px 1px 3px 1px rgba(0, 0, 0, 0.15);\n",
              "      filter: drop-shadow(0px 1px 2px rgba(0, 0, 0, 0.3));\n",
              "      fill: #FFFFFF;\n",
              "    }\n",
              "  </style>\n",
              "\n",
              "      <script>\n",
              "        const buttonEl =\n",
              "          document.querySelector('#df-363ce3df-f29a-478c-954f-91e835fff365 button.colab-df-convert');\n",
              "        buttonEl.style.display =\n",
              "          google.colab.kernel.accessAllowed ? 'block' : 'none';\n",
              "\n",
              "        async function convertToInteractive(key) {\n",
              "          const element = document.querySelector('#df-363ce3df-f29a-478c-954f-91e835fff365');\n",
              "          const dataTable =\n",
              "            await google.colab.kernel.invokeFunction('convertToInteractive',\n",
              "                                                     [key], {});\n",
              "          if (!dataTable) return;\n",
              "\n",
              "          const docLinkHtml = 'Like what you see? Visit the ' +\n",
              "            '<a target=\"_blank\" href=https://colab.research.google.com/notebooks/data_table.ipynb>data table notebook</a>'\n",
              "            + ' to learn more about interactive tables.';\n",
              "          element.innerHTML = '';\n",
              "          dataTable['output_type'] = 'display_data';\n",
              "          await google.colab.output.renderOutput(dataTable, element);\n",
              "          const docLink = document.createElement('div');\n",
              "          docLink.innerHTML = docLinkHtml;\n",
              "          element.appendChild(docLink);\n",
              "        }\n",
              "      </script>\n",
              "    </div>\n",
              "  </div>\n",
              "  "
            ]
          },
          "metadata": {},
          "execution_count": 27
        }
      ]
    },
    {
      "cell_type": "code",
      "source": [
        "test_open = data_test.iloc[:, 1:2].values\n",
        "test_high = data_test.iloc[:, 2:3].values\n",
        "test_low = data_test.iloc[:, 3:4].values\n",
        "test_close = data_test.iloc[:, 4:5].values\n",
        "test_vol = data_test.iloc[:, 5:6].values\n"
      ],
      "metadata": {
        "id": "7hnwH2QdV-Hr"
      },
      "execution_count": 14,
      "outputs": []
    },
    {
      "cell_type": "code",
      "source": [
        "test_close_=[]\n",
        "test_close = test_close.flatten()\n",
        "for i in range(len(test_close)):\n",
        "\n",
        "  b = ''.join(str(test_close[i]).split(','))\n",
        "  test_close_.append(float(b))\n",
        "test_close_ = np.array(test_close_)"
      ],
      "metadata": {
        "id": "g8tHwL8SWRnM"
      },
      "execution_count": 15,
      "outputs": []
    },
    {
      "cell_type": "code",
      "source": [
        "test_vol_=[]\n",
        "test_vol = test_vol.flatten()\n",
        "for i in range(len(test_vol)):\n",
        "\n",
        "  b = ''.join(str(test_vol[i]).split(','))\n",
        "  test_vol_.append(float(b))\n",
        "test_vol_ = np.array(test_vol_)"
      ],
      "metadata": {
        "id": "D991WTc2Wgp8"
      },
      "execution_count": 16,
      "outputs": []
    },
    {
      "cell_type": "code",
      "source": [
        "test_close_2D = np.reshape(test_close_, (len(test_close), 1))\n",
        "test_vol_2D = np.reshape(test_vol_, (len(test_vol), 1))\n"
      ],
      "metadata": {
        "id": "LpbkeVSFWyK0"
      },
      "execution_count": 17,
      "outputs": []
    },
    {
      "cell_type": "code",
      "source": [
        "\n",
        "def visualize(x, count):\n",
        "  plt.plot(x, color = 'red')\n",
        "\n",
        "  plt.title(count)\n",
        "  \n",
        "  plt.xlabel('Time')\n",
        "  plt.ylabel('Google Stock Price')\n",
        "\n",
        "  plt.show()\n",
        "  "
      ],
      "metadata": {
        "id": "FpHCBnMfXZol"
      },
      "execution_count": null,
      "outputs": []
    },
    {
      "cell_type": "code",
      "source": [
        "visualize(test_open, \"Open\")\n",
        "visualize(test_high, \"High\")\n",
        "visualize(test_low, \"Low\")\n",
        "visualize(test_close_2D, \"Close\")\n",
        "visualize(test_vol_2D, \"Vol\")"
      ],
      "metadata": {
        "colab": {
          "base_uri": "https://localhost:8080/",
          "height": 1000
        },
        "id": "l4nHcMUfSC-4",
        "outputId": "528aa76a-9b08-47b7-adc6-4e957569591f"
      },
      "execution_count": null,
      "outputs": [
        {
          "output_type": "display_data",
          "data": {
            "text/plain": [
              "<Figure size 432x288 with 1 Axes>"
            ],
            "image/png": "[encoded data removed]"
          },
          "metadata": {
            "needs_background": "light"
          }
        },
        {
          "output_type": "display_data",
          "data": {
            "text/plain": [
              "<Figure size 432x288 with 1 Axes>"
            ],
            "image/png": "[encoded data removed]"
          },
          "metadata": {
            "needs_background": "light"
          }
        },
        {
          "output_type": "display_data",
          "data": {
            "text/plain": [
              "<Figure size 432x288 with 1 Axes>"
            ],
            "image/png": "[encoded data removed]"
          },
          "metadata": {
            "needs_background": "light"
          }
        },
        {
          "output_type": "display_data",
          "data": {
            "text/plain": [
              "<Figure size 432x288 with 1 Axes>"
            ],
            "image/png": "[encoded data removed]"
          },
          "metadata": {
            "needs_background": "light"
          }
        },
        {
          "output_type": "display_data",
          "data": {
            "text/plain": [
              "<Figure size 432x288 with 1 Axes>"
            ],
            "image/png": "[encoded data removed]"
          },
          "metadata": {
            "needs_background": "light"
          }
        }
      ]
    },
    {
      "cell_type": "markdown",
      "source": [
        "Trying various models and generating training and testing set "
      ],
      "metadata": {
        "id": "7cEJT5SZuKvv"
      }
    },
    {
      "cell_type": "markdown",
      "source": [
        "With last 20 timesteps as features"
      ],
      "metadata": {
        "id": "4IaRi1Emx6U-"
      }
    },
    {
      "cell_type": "code",
      "source": [
        "train_data_open_20 = []\n",
        "y_train_data_open_20 = []\n",
        "for i in range(20, len(train_open_mms)):\n",
        "    train_data_open_20.append(train_open.flatten()[i-20:i])\n",
        "    y_train_data_open_20.append(train_open.flatten()[i])\n",
        "train_data_open_20 = np.array(train_data_open_20)\n",
        "y_train_data_open_20 = np.array(y_train_data_open_20)\n",
        "\n",
        "train_data_open_20.shape"
      ],
      "metadata": {
        "colab": {
          "base_uri": "https://localhost:8080/"
        },
        "id": "NRLvmdG_vRfR",
        "outputId": "10bb0d6d-8e49-43e5-fb46-02a25e85e818"
      },
      "execution_count": 18,
      "outputs": [
        {
          "output_type": "execute_result",
          "data": {
            "text/plain": [
              "(1238, 20)"
            ]
          },
          "metadata": {},
          "execution_count": 18
        }
      ]
    },
    {
      "cell_type": "code",
      "source": [
        "x_20 = train_open.flatten()\n",
        "req_train_20 = x_20[len(x_20)-20:]\n",
        "y_20 = test_open.flatten()\n",
        "z_20 = np.concatenate([req_train_20, y_20])\n",
        "z_1_20 = np.reshape(z_20, (len(z_20), 1))\n",
        "\n",
        "X_test_20 = []\n",
        "for i in range(20, 40):\n",
        "    X_test_20.append(z_1_20.flatten()[i-20:i])\n",
        "X_test_20 = np.array(X_test_20)\n",
        "X_test_20.shape"
      ],
      "metadata": {
        "id": "F7NYGxX7vv7B",
        "colab": {
          "base_uri": "https://localhost:8080/"
        },
        "outputId": "f71858fb-2d8d-4122-c0a7-29948fbe3662"
      },
      "execution_count": 19,
      "outputs": [
        {
          "output_type": "execute_result",
          "data": {
            "text/plain": [
              "(20, 20)"
            ]
          },
          "metadata": {},
          "execution_count": 19
        }
      ]
    },
    {
      "cell_type": "code",
      "source": [
        "from sklearn.linear_model import LinearRegression\n",
        "reg_20 = LinearRegression()\n",
        "reg_20.fit(train_data_open_20, y_train_data_open_20)\n",
        "y_pred_lr_20 = reg_20.predict(X_test_20)\n",
        "y_pred_lr_20"
      ],
      "metadata": {
        "colab": {
          "base_uri": "https://localhost:8080/"
        },
        "id": "NoRQF8CTxkAR",
        "outputId": "5bb89e37-26b1-4f1d-9f23-757f20270122"
      },
      "execution_count": 20,
      "outputs": [
        {
          "output_type": "execute_result",
          "data": {
            "text/plain": [
              "array([783.71492038, 779.67245821, 789.16616586, 787.84449028,\n",
              "       794.92978544, 805.90166216, 808.44524609, 805.12993882,\n",
              "       805.12627288, 808.0811952 , 806.83612928, 806.29593329,\n",
              "       803.74144603, 806.32952298, 807.43572478, 821.03467426,\n",
              "       829.25947228, 837.60018348, 834.61241803, 813.52331716])"
            ]
          },
          "metadata": {},
          "execution_count": 20
        }
      ]
    },
    {
      "cell_type": "code",
      "source": [
        "a = test_open.flatten()\n",
        "err=0\n",
        "b = y_pred_lr_20.flatten()\n",
        "from sklearn.metrics import mean_squared_error as mse\n",
        "err = mse(a, b)\n",
        "print(err)"
      ],
      "metadata": {
        "colab": {
          "base_uri": "https://localhost:8080/"
        },
        "id": "2KqONeXSyiMz",
        "outputId": "fd5cc088-d003-48f4-8040-67e1c0ce3fe6"
      },
      "execution_count": 21,
      "outputs": [
        {
          "output_type": "stream",
          "name": "stdout",
          "text": [
            "69.3553153187003\n"
          ]
        }
      ]
    },
    {
      "cell_type": "code",
      "source": [
        "from sklearn.metrics import r2_score\n",
        "r2_lr_20 = r2_score(a, b)\n",
        "r2_lr_20"
      ],
      "metadata": {
        "colab": {
          "base_uri": "https://localhost:8080/"
        },
        "id": "x_Eozz6L6nxz",
        "outputId": "3c0df04a-2ef3-47d2-e8f0-bf082d937c16"
      },
      "execution_count": 22,
      "outputs": [
        {
          "output_type": "execute_result",
          "data": {
            "text/plain": [
              "0.6808897316147363"
            ]
          },
          "metadata": {},
          "execution_count": 22
        }
      ]
    },
    {
      "cell_type": "code",
      "source": [
        "plt.plot(test_open.flatten(), color = 'red', label = 'Real Open Google Stock Price')\n",
        "plt.plot(y_pred_lr_20, color = 'blue', label = 'Predicted Open Google Stock Price')\n",
        "plt.title('Google Stock Price Prediction using LR(20)')\n",
        "plt.xlabel('Time')\n",
        "plt.ylabel('Google Open Stock Price')\n",
        "plt.legend()\n",
        "plt.show()"
      ],
      "metadata": {
        "colab": {
          "base_uri": "https://localhost:8080/",
          "height": 295
        },
        "id": "wQuM6jDrzBXG",
        "outputId": "0f95019a-b099-40fb-d039-bfcb82d1b90a"
      },
      "execution_count": 23,
      "outputs": [
        {
          "output_type": "display_data",
          "data": {
            "text/plain": [
              "<Figure size 432x288 with 1 Axes>"
            ],
            "image/png": "[encoded data removed]"
          },
          "metadata": {
            "needs_background": "light"
          }
        }
      ]
    },
    {
      "cell_type": "code",
      "source": [
        "from sklearn.ensemble import RandomForestRegressor\n",
        "from sklearn.datasets import make_regression\n",
        "regr_rfr_20 = RandomForestRegressor()\n",
        "regr_rfr_20.fit(train_data_open_20, y_train_data_open_20)\n",
        "y_pred_rfr_20 = regr_rfr_20.predict(X_test_20)\n",
        "y_pred_rfr_20"
      ],
      "metadata": {
        "colab": {
          "base_uri": "https://localhost:8080/"
        },
        "id": "UaEwZjcm0K8_",
        "outputId": "f97eeac0-0211-46bc-d824-5cfcdf3a3d29"
      },
      "execution_count": null,
      "outputs": [
        {
          "output_type": "execute_result",
          "data": {
            "text/plain": [
              "array([781.0385, 780.5835, 786.9195, 784.1366, 794.6134, 802.0439,\n",
              "       804.7469, 806.4532, 805.0526, 802.5785, 800.8086, 801.6135,\n",
              "       800.8442, 800.3343, 800.6941, 800.1165, 800.1156, 799.8669,\n",
              "       797.4077, 798.2403])"
            ]
          },
          "metadata": {},
          "execution_count": 48
        }
      ]
    },
    {
      "cell_type": "code",
      "source": [
        "a = test_open.flatten()\n",
        "err=0\n",
        "b = y_pred_rfr_20.flatten()\n",
        "from sklearn.metrics import mean_squared_error as mse\n",
        "err = mse(a, b)\n",
        "print(err)"
      ],
      "metadata": {
        "colab": {
          "base_uri": "https://localhost:8080/"
        },
        "id": "ocx4zRKo2OCF",
        "outputId": "e1079769-f333-4f5b-c7db-2a788c4db3f1"
      },
      "execution_count": null,
      "outputs": [
        {
          "output_type": "stream",
          "name": "stdout",
          "text": [
            "239.14878688450617\n"
          ]
        }
      ]
    },
    {
      "cell_type": "code",
      "source": [
        "from sklearn.metrics import r2_score\n",
        "r2_rfr_20 = r2_score(a, b)\n",
        "r2_rfr_20"
      ],
      "metadata": {
        "colab": {
          "base_uri": "https://localhost:8080/"
        },
        "id": "VlWtji3G68SD",
        "outputId": "df849a0f-ded4-46d7-83a5-fbdcefa37f33"
      },
      "execution_count": null,
      "outputs": [
        {
          "output_type": "execute_result",
          "data": {
            "text/plain": [
              "-0.10034585260040174"
            ]
          },
          "metadata": {},
          "execution_count": 50
        }
      ]
    },
    {
      "cell_type": "code",
      "source": [
        "plt.plot(test_open.flatten(), color = 'red', label = 'Real Open Google Stock Price')\n",
        "plt.plot(y_pred_rfr_20, color = 'blue', label = 'Predicted Open Google Stock Price')\n",
        "plt.title('Google Stock Price Prediction using RFR(20)')\n",
        "plt.xlabel('Time')\n",
        "plt.ylabel('Google Open Stock Price')\n",
        "plt.legend()\n",
        "plt.show()"
      ],
      "metadata": {
        "colab": {
          "base_uri": "https://localhost:8080/",
          "height": 295
        },
        "id": "I0WT3OrF2Vg_",
        "outputId": "a2903329-c9f8-4cca-90fd-8b39dd6badd0"
      },
      "execution_count": null,
      "outputs": [
        {
          "output_type": "display_data",
          "data": {
            "text/plain": [
              "<Figure size 432x288 with 1 Axes>"
            ],
            "image/png": "[encoded data removed]"
          },
          "metadata": {
            "needs_background": "light"
          }
        }
      ]
    },
    {
      "cell_type": "code",
      "source": [
        "pip install lightgbm\n"
      ],
      "metadata": {
        "colab": {
          "base_uri": "https://localhost:8080/"
        },
        "id": "ZyJ1alFi2ekK",
        "outputId": "e801452f-bbb6-4483-c6e1-d558a9458b98"
      },
      "execution_count": null,
      "outputs": [
        {
          "output_type": "stream",
          "name": "stdout",
          "text": [
            "Looking in indexes: https://pypi.org/simple, https://us-python.pkg.dev/colab-wheels/public/simple/\n",
            "Requirement already satisfied: lightgbm in /usr/local/lib/python3.7/dist-packages (2.2.3)\n",
            "Requirement already satisfied: scipy in /usr/local/lib/python3.7/dist-packages (from lightgbm) (1.4.1)\n",
            "Requirement already satisfied: numpy in /usr/local/lib/python3.7/dist-packages (from lightgbm) (1.21.6)\n",
            "Requirement already satisfied: scikit-learn in /usr/local/lib/python3.7/dist-packages (from lightgbm) (1.0.2)\n",
            "Requirement already satisfied: threadpoolctl>=2.0.0 in /usr/local/lib/python3.7/dist-packages (from scikit-learn->lightgbm) (3.1.0)\n",
            "Requirement already satisfied: joblib>=0.11 in /usr/local/lib/python3.7/dist-packages (from scikit-learn->lightgbm) (1.1.0)\n"
          ]
        }
      ]
    },
    {
      "cell_type": "code",
      "source": [
        "import lightgbm as lgb\n",
        "regr_lgb_20 = lgb.LGBMRegressor()\n",
        "regr_lgb_20.fit(train_data_open_20, y_train_data_open_20)\n",
        "y_pred_regr_lgb_20 = regr_lgb_20.predict(X_test_20)\n",
        "y_pred_regr_lgb_20\n"
      ],
      "metadata": {
        "colab": {
          "base_uri": "https://localhost:8080/"
        },
        "id": "Q2eDBvOY4e25",
        "outputId": "2771e8d1-5e91-4591-d324-5867d6838001"
      },
      "execution_count": null,
      "outputs": [
        {
          "output_type": "execute_result",
          "data": {
            "text/plain": [
              "array([777.10881158, 770.68092926, 782.10230909, 785.32644472,\n",
              "       784.55580695, 787.18446582, 786.37502959, 786.25344134,\n",
              "       786.57342347, 787.9773825 , 785.79805298, 786.39059616,\n",
              "       786.28500613, 786.1354202 , 787.98968807, 792.55635356,\n",
              "       788.08172543, 788.42485383, 788.52891369, 783.15203706])"
            ]
          },
          "metadata": {},
          "execution_count": 52
        }
      ]
    },
    {
      "cell_type": "code",
      "source": [
        "a = test_open.flatten()\n",
        "err=0\n",
        "b = y_pred_regr_lgb_20.flatten()\n",
        "from sklearn.metrics import mean_squared_error as mse\n",
        "err = mse(a, b)\n",
        "print(err)  \n"
      ],
      "metadata": {
        "colab": {
          "base_uri": "https://localhost:8080/"
        },
        "id": "cOQ7HjlX5G-1",
        "outputId": "2595dec5-89b6-49a6-82f2-1fa738afadcf"
      },
      "execution_count": null,
      "outputs": [
        {
          "output_type": "stream",
          "name": "stdout",
          "text": [
            "628.9537104752876\n"
          ]
        }
      ]
    },
    {
      "cell_type": "code",
      "source": [
        "from sklearn.metrics import r2_score\n",
        "r2_lgb_20 = r2_score(a, b)\n",
        "r2_lgb_20"
      ],
      "metadata": {
        "colab": {
          "base_uri": "https://localhost:8080/"
        },
        "id": "a_A6K1l67IxM",
        "outputId": "030ccae5-0ce2-4554-c819-447221edee81"
      },
      "execution_count": null,
      "outputs": [
        {
          "output_type": "execute_result",
          "data": {
            "text/plain": [
              "-1.893874628489507"
            ]
          },
          "metadata": {},
          "execution_count": 55
        }
      ]
    },
    {
      "cell_type": "code",
      "source": [
        "plt.plot(test_open.flatten(), color = 'red', label = 'Real Open Google Stock Price')\n",
        "plt.plot(y_pred_regr_lgb_20, color = 'blue', label = 'Predicted Open Google Stock Price')\n",
        "plt.title('Google Stock Price Prediction using RFR(20)')\n",
        "plt.xlabel('Time')\n",
        "plt.ylabel('Google Open Stock Price')\n",
        "plt.legend()\n",
        "plt.show()"
      ],
      "metadata": {
        "colab": {
          "base_uri": "https://localhost:8080/",
          "height": 295
        },
        "id": "4ZtN690A54Ry",
        "outputId": "779bfeed-a4a2-4610-906a-ec25162f3c2b"
      },
      "execution_count": null,
      "outputs": [
        {
          "output_type": "display_data",
          "data": {
            "text/plain": [
              "<Figure size 432x288 with 1 Axes>"
            ],
            "image/png": "[encoded data removed]"
          },
          "metadata": {
            "needs_background": "light"
          }
        }
      ]
    },
    {
      "cell_type": "markdown",
      "source": [
        "Transforming input for RNN feeding"
      ],
      "metadata": {
        "id": "IlPMWFnU8icD"
      }
    },
    {
      "cell_type": "code",
      "source": [
        "train_data_open = []\n",
        "test_data_open = []\n",
        "for i in range(20, len(train_open_mms)):\n",
        "    train_data_open.append(train_open_mms.flatten()[i-20:i])\n",
        "    test_data_open.append(train_open_mms.flatten()[i])\n",
        "train_data_open = np.array(train_data_open)\n",
        "test_data_open = np.array(test_data_open)\n",
        "\n",
        "\n",
        "from numpy import newaxis\n",
        "train_data_open = train_data_open[:, :, newaxis]\n",
        "train_data_open\n"
      ],
      "metadata": {
        "colab": {
          "base_uri": "https://localhost:8080/"
        },
        "id": "WvH_7OgH8gsc",
        "outputId": "6e4edcf7-f1a6-416b-c7b9-b3487855aa41"
      },
      "execution_count": 44,
      "outputs": [
        {
          "output_type": "execute_result",
          "data": {
            "text/plain": [
              "array([[[0.08581368],\n",
              "        [0.09701243],\n",
              "        [0.09433366],\n",
              "        ...,\n",
              "        [0.00967334],\n",
              "        [0.01642607],\n",
              "        [0.02100231]],\n",
              "\n",
              "       [[0.09701243],\n",
              "        [0.09433366],\n",
              "        [0.09156187],\n",
              "        ...,\n",
              "        [0.01642607],\n",
              "        [0.02100231],\n",
              "        [0.02280676]],\n",
              "\n",
              "       [[0.09433366],\n",
              "        [0.09156187],\n",
              "        [0.07984225],\n",
              "        ...,\n",
              "        [0.02100231],\n",
              "        [0.02280676],\n",
              "        [0.02273235]],\n",
              "\n",
              "       ...,\n",
              "\n",
              "       [[0.91600938],\n",
              "        [0.9132934 ],\n",
              "        [0.88979835],\n",
              "        ...,\n",
              "        [0.95475854],\n",
              "        [0.95204256],\n",
              "        [0.95163331]],\n",
              "\n",
              "       [[0.9132934 ],\n",
              "        [0.88979835],\n",
              "        [0.86589404],\n",
              "        ...,\n",
              "        [0.95204256],\n",
              "        [0.95163331],\n",
              "        [0.95725128]],\n",
              "\n",
              "       [[0.88979835],\n",
              "        [0.86589404],\n",
              "        [0.89030062],\n",
              "        ...,\n",
              "        [0.95163331],\n",
              "        [0.95725128],\n",
              "        [0.93796041]]])"
            ]
          },
          "metadata": {},
          "execution_count": 44
        }
      ]
    },
    {
      "cell_type": "code",
      "source": [
        "model = Sequential()\n",
        "from keras.layers.recurrent import LSTM\n",
        "model.add(LSTM(128, input_shape=(20, 1), activation='relu', return_sequences=True))\n",
        "\n",
        "\n",
        "model.add(LSTM(64, activation='relu'))\n",
        "\n",
        "\n",
        "model.add(Dense(32, activation='relu'))\n",
        "\n",
        "\n",
        "model.add(Dense(10, activation='softmax'))\n",
        "model.add(Dense(1))\n",
        "\n",
        "\n",
        "\n",
        "model.compile(optimizer = 'adam', loss = 'mean_squared_error')\n",
        "final = model.fit(train_data_open, test_data_open, epochs = 100)"
      ],
      "metadata": {
        "colab": {
          "base_uri": "https://localhost:8080/"
        },
        "id": "BJEfO8ke5H1C",
        "outputId": "c3e7a460-32ff-4179-f03b-b47e9d0d2601"
      },
      "execution_count": 46,
      "outputs": [
        {
          "output_type": "stream",
          "name": "stdout",
          "text": [
            "Epoch 1/100\n",
            "39/39 [==============================] - 7s 64ms/step - loss: 0.1846\n",
            "Epoch 2/100\n",
            "39/39 [==============================] - 3s 65ms/step - loss: 0.0318\n",
            "Epoch 3/100\n",
            "39/39 [==============================] - 3s 64ms/step - loss: 0.0227\n",
            "Epoch 4/100\n",
            "39/39 [==============================] - 3s 65ms/step - loss: 0.0166\n",
            "Epoch 5/100\n",
            "39/39 [==============================] - 3s 64ms/step - loss: 0.0122\n",
            "Epoch 6/100\n",
            "39/39 [==============================] - 3s 65ms/step - loss: 0.0089\n",
            "Epoch 7/100\n",
            "39/39 [==============================] - 2s 64ms/step - loss: 0.0065\n",
            "Epoch 8/100\n",
            "39/39 [==============================] - 3s 65ms/step - loss: 0.0051\n",
            "Epoch 9/100\n",
            "39/39 [==============================] - 3s 64ms/step - loss: 0.0038\n",
            "Epoch 10/100\n",
            "39/39 [==============================] - 3s 65ms/step - loss: 0.0031\n",
            "Epoch 11/100\n",
            "39/39 [==============================] - 3s 65ms/step - loss: 0.0026\n",
            "Epoch 12/100\n",
            "39/39 [==============================] - 3s 65ms/step - loss: 0.0021\n",
            "Epoch 13/100\n",
            "39/39 [==============================] - 3s 65ms/step - loss: 0.0018\n",
            "Epoch 14/100\n",
            "39/39 [==============================] - 3s 64ms/step - loss: 0.0016\n",
            "Epoch 15/100\n",
            "39/39 [==============================] - 3s 65ms/step - loss: 0.0020\n",
            "Epoch 16/100\n",
            "39/39 [==============================] - 3s 64ms/step - loss: 0.0016\n",
            "Epoch 17/100\n",
            "39/39 [==============================] - 3s 64ms/step - loss: 0.0014\n",
            "Epoch 18/100\n",
            "39/39 [==============================] - 3s 65ms/step - loss: 0.0016\n",
            "Epoch 19/100\n",
            "39/39 [==============================] - 3s 65ms/step - loss: 0.0013\n",
            "Epoch 20/100\n",
            "39/39 [==============================] - 3s 65ms/step - loss: 0.0011\n",
            "Epoch 21/100\n",
            "39/39 [==============================] - 3s 65ms/step - loss: 0.0011\n",
            "Epoch 22/100\n",
            "39/39 [==============================] - 3s 65ms/step - loss: 9.8165e-04\n",
            "Epoch 23/100\n",
            "39/39 [==============================] - 3s 65ms/step - loss: 0.0011\n",
            "Epoch 24/100\n",
            "39/39 [==============================] - 3s 65ms/step - loss: 8.9511e-04\n",
            "Epoch 25/100\n",
            "39/39 [==============================] - 3s 64ms/step - loss: 9.5969e-04\n",
            "Epoch 26/100\n",
            "39/39 [==============================] - 3s 65ms/step - loss: 8.4592e-04\n",
            "Epoch 27/100\n",
            "39/39 [==============================] - 3s 65ms/step - loss: 8.5773e-04\n",
            "Epoch 28/100\n",
            "39/39 [==============================] - 3s 65ms/step - loss: 7.5249e-04\n",
            "Epoch 29/100\n",
            "39/39 [==============================] - 3s 65ms/step - loss: 9.0457e-04\n",
            "Epoch 30/100\n",
            "39/39 [==============================] - 3s 65ms/step - loss: 8.5836e-04\n",
            "Epoch 31/100\n",
            "39/39 [==============================] - 3s 66ms/step - loss: 8.8364e-04\n",
            "Epoch 32/100\n",
            "39/39 [==============================] - 3s 66ms/step - loss: 8.1351e-04\n",
            "Epoch 33/100\n",
            "39/39 [==============================] - 3s 66ms/step - loss: 8.2895e-04\n",
            "Epoch 34/100\n",
            "39/39 [==============================] - 3s 65ms/step - loss: 8.7221e-04\n",
            "Epoch 35/100\n",
            "39/39 [==============================] - 3s 66ms/step - loss: 6.3032e-04\n",
            "Epoch 36/100\n",
            "39/39 [==============================] - 3s 65ms/step - loss: 6.2643e-04\n",
            "Epoch 37/100\n",
            "39/39 [==============================] - 3s 66ms/step - loss: 6.7386e-04\n",
            "Epoch 38/100\n",
            "39/39 [==============================] - 3s 65ms/step - loss: 0.0011\n",
            "Epoch 39/100\n",
            "39/39 [==============================] - 3s 65ms/step - loss: 6.8107e-04\n",
            "Epoch 40/100\n",
            "39/39 [==============================] - 3s 65ms/step - loss: 6.1647e-04\n",
            "Epoch 41/100\n",
            "39/39 [==============================] - 3s 65ms/step - loss: 5.2141e-04\n",
            "Epoch 42/100\n",
            "39/39 [==============================] - 3s 65ms/step - loss: 6.4861e-04\n",
            "Epoch 43/100\n",
            "39/39 [==============================] - 3s 65ms/step - loss: 6.7905e-04\n",
            "Epoch 44/100\n",
            "39/39 [==============================] - 3s 66ms/step - loss: 6.1775e-04\n",
            "Epoch 45/100\n",
            "39/39 [==============================] - 3s 66ms/step - loss: 5.5475e-04\n",
            "Epoch 46/100\n",
            "39/39 [==============================] - 3s 65ms/step - loss: 4.8536e-04\n",
            "Epoch 47/100\n",
            "39/39 [==============================] - 3s 65ms/step - loss: 5.0072e-04\n",
            "Epoch 48/100\n",
            "39/39 [==============================] - 3s 65ms/step - loss: 4.7757e-04\n",
            "Epoch 49/100\n",
            "39/39 [==============================] - 3s 65ms/step - loss: 5.7532e-04\n",
            "Epoch 50/100\n",
            "39/39 [==============================] - 3s 65ms/step - loss: 4.8771e-04\n",
            "Epoch 51/100\n",
            "39/39 [==============================] - 3s 65ms/step - loss: 4.6952e-04\n",
            "Epoch 52/100\n",
            "39/39 [==============================] - 3s 65ms/step - loss: 4.4246e-04\n",
            "Epoch 53/100\n",
            "39/39 [==============================] - 3s 64ms/step - loss: 5.0073e-04\n",
            "Epoch 54/100\n",
            "39/39 [==============================] - 3s 64ms/step - loss: 4.3221e-04\n",
            "Epoch 55/100\n",
            "39/39 [==============================] - 3s 64ms/step - loss: 4.0800e-04\n",
            "Epoch 56/100\n",
            "39/39 [==============================] - 3s 66ms/step - loss: 4.1667e-04\n",
            "Epoch 57/100\n",
            "39/39 [==============================] - 3s 65ms/step - loss: 4.2422e-04\n",
            "Epoch 58/100\n",
            "39/39 [==============================] - 3s 66ms/step - loss: 4.4842e-04\n",
            "Epoch 59/100\n",
            "39/39 [==============================] - 3s 65ms/step - loss: 4.4884e-04\n",
            "Epoch 60/100\n",
            "39/39 [==============================] - 3s 65ms/step - loss: 4.9784e-04\n",
            "Epoch 61/100\n",
            "39/39 [==============================] - 3s 65ms/step - loss: 3.9370e-04\n",
            "Epoch 62/100\n",
            "39/39 [==============================] - 3s 65ms/step - loss: 3.7282e-04\n",
            "Epoch 63/100\n",
            "39/39 [==============================] - 3s 65ms/step - loss: 3.5673e-04\n",
            "Epoch 64/100\n",
            "39/39 [==============================] - 3s 65ms/step - loss: 4.1889e-04\n",
            "Epoch 65/100\n",
            "39/39 [==============================] - 3s 65ms/step - loss: 3.7173e-04\n",
            "Epoch 66/100\n",
            "39/39 [==============================] - 3s 65ms/step - loss: 4.0719e-04\n",
            "Epoch 67/100\n",
            "39/39 [==============================] - 3s 65ms/step - loss: 3.2830e-04\n",
            "Epoch 68/100\n",
            "39/39 [==============================] - 3s 65ms/step - loss: 3.8677e-04\n",
            "Epoch 69/100\n",
            "39/39 [==============================] - 3s 65ms/step - loss: 4.1239e-04\n",
            "Epoch 70/100\n",
            "39/39 [==============================] - 3s 65ms/step - loss: 3.9359e-04\n",
            "Epoch 71/100\n",
            "39/39 [==============================] - 3s 65ms/step - loss: 4.3108e-04\n",
            "Epoch 72/100\n",
            "39/39 [==============================] - 3s 65ms/step - loss: 4.5432e-04\n",
            "Epoch 73/100\n",
            "39/39 [==============================] - 3s 65ms/step - loss: 4.8199e-04\n",
            "Epoch 74/100\n",
            "39/39 [==============================] - 3s 65ms/step - loss: 3.3788e-04\n",
            "Epoch 75/100\n",
            "39/39 [==============================] - 3s 65ms/step - loss: 3.7015e-04\n",
            "Epoch 76/100\n",
            "39/39 [==============================] - 3s 65ms/step - loss: 3.6929e-04\n",
            "Epoch 77/100\n",
            "39/39 [==============================] - 3s 65ms/step - loss: 4.1260e-04\n",
            "Epoch 78/100\n",
            "39/39 [==============================] - 3s 65ms/step - loss: 3.6306e-04\n",
            "Epoch 79/100\n",
            "39/39 [==============================] - 3s 66ms/step - loss: 3.2680e-04\n",
            "Epoch 80/100\n",
            "39/39 [==============================] - 3s 65ms/step - loss: 3.6002e-04\n",
            "Epoch 81/100\n",
            "39/39 [==============================] - 3s 67ms/step - loss: 3.6279e-04\n",
            "Epoch 82/100\n",
            "39/39 [==============================] - 3s 66ms/step - loss: 3.0314e-04\n",
            "Epoch 83/100\n",
            "39/39 [==============================] - 3s 65ms/step - loss: 3.0838e-04\n",
            "Epoch 84/100\n",
            "39/39 [==============================] - 3s 65ms/step - loss: 3.8557e-04\n",
            "Epoch 85/100\n",
            "39/39 [==============================] - 3s 66ms/step - loss: 3.6021e-04\n",
            "Epoch 86/100\n",
            "39/39 [==============================] - 3s 65ms/step - loss: 3.1285e-04\n",
            "Epoch 87/100\n",
            "39/39 [==============================] - 3s 65ms/step - loss: 3.1810e-04\n",
            "Epoch 88/100\n",
            "39/39 [==============================] - 3s 66ms/step - loss: 3.8414e-04\n",
            "Epoch 89/100\n",
            "39/39 [==============================] - 3s 66ms/step - loss: 3.0206e-04\n",
            "Epoch 90/100\n",
            "39/39 [==============================] - 3s 66ms/step - loss: 3.3354e-04\n",
            "Epoch 91/100\n",
            "39/39 [==============================] - 3s 65ms/step - loss: 3.3717e-04\n",
            "Epoch 92/100\n",
            "39/39 [==============================] - 3s 66ms/step - loss: 4.6079e-04\n",
            "Epoch 93/100\n",
            "39/39 [==============================] - 3s 66ms/step - loss: 3.6025e-04\n",
            "Epoch 94/100\n",
            "39/39 [==============================] - 3s 66ms/step - loss: 3.4567e-04\n",
            "Epoch 95/100\n",
            "39/39 [==============================] - 3s 65ms/step - loss: 3.5866e-04\n",
            "Epoch 96/100\n",
            "39/39 [==============================] - 3s 66ms/step - loss: 2.9673e-04\n",
            "Epoch 97/100\n",
            "39/39 [==============================] - 3s 66ms/step - loss: 3.3416e-04\n",
            "Epoch 98/100\n",
            "39/39 [==============================] - 3s 66ms/step - loss: 3.1804e-04\n",
            "Epoch 99/100\n",
            "39/39 [==============================] - 3s 65ms/step - loss: 3.0016e-04\n",
            "Epoch 100/100\n",
            "39/39 [==============================] - 3s 66ms/step - loss: 2.8165e-04\n"
          ]
        }
      ]
    },
    {
      "cell_type": "code",
      "source": [
        "plt.plot(final.history['loss'], label='train loss')\n",
        "plt.legend()\n",
        "plt.show()"
      ],
      "metadata": {
        "colab": {
          "base_uri": "https://localhost:8080/",
          "height": 265
        },
        "id": "AE5VaOh1kLic",
        "outputId": "261be770-ce2a-400e-8dc6-3fb5a3e7ef41"
      },
      "execution_count": null,
      "outputs": [
        {
          "output_type": "display_data",
          "data": {
            "text/plain": [
              "<Figure size 432x288 with 1 Axes>"
            ],
            "image/png": "[encoded data removed]"
          },
          "metadata": {
            "needs_background": "light"
          }
        }
      ]
    },
    {
      "cell_type": "code",
      "source": [
        "x = train_open.flatten()\n",
        "req_train = x[len(x)-20:]\n",
        "y = test_open.flatten()\n",
        "z = np.concatenate([req_train, y])\n",
        "z_1 = np.reshape(z, (len(z), 1))\n",
        "mms = MinMaxScaler(feature_range = (0, 1))\n",
        "\n",
        "z_2 = mms.fit_transform(z_1)\n",
        "X_test = []\n",
        "for i in range(20, 40):\n",
        "    X_test.append(z_2.flatten()[i-20:i])\n",
        "X_test = np.array(X_test)\n"
      ],
      "metadata": {
        "id": "haorNWKD-5mu"
      },
      "execution_count": 47,
      "outputs": []
    },
    {
      "cell_type": "code",
      "source": [
        "pred_open = model.predict(X_test)\n",
        "\n",
        "pred_open_ = mms.inverse_transform(pred_open)\n",
        "plt.plot(test_open, color = 'red', label = 'Real Open Google Stock Price')\n",
        "plt.plot(pred_open_, color = 'blue', label = 'Predicted Open Google Stock Price')\n",
        "plt.title('Google Stock Price Prediction')\n",
        "plt.xlabel('Time')\n",
        "plt.ylabel('Google Open Stock Price')\n",
        "plt.legend()\n",
        "plt.show()"
      ],
      "metadata": {
        "colab": {
          "base_uri": "https://localhost:8080/",
          "height": 295
        },
        "id": "jGUIXwqwBUas",
        "outputId": "a5a601c9-ccd6-4dac-fee0-640dde750801"
      },
      "execution_count": 48,
      "outputs": [
        {
          "output_type": "display_data",
          "data": {
            "text/plain": [
              "<Figure size 432x288 with 1 Axes>"
            ],
            "image/png": "[encoded data removed]"
          },
          "metadata": {
            "needs_background": "light"
          }
        }
      ]
    },
    {
      "cell_type": "code",
      "source": [
        "a = test_open.flatten()\n",
        "err=0\n",
        "b = pred_open_.flatten()\n",
        "from sklearn.metrics import mean_squared_error as mse\n",
        "err = mse(a, b)\n",
        "print(err)"
      ],
      "metadata": {
        "colab": {
          "base_uri": "https://localhost:8080/"
        },
        "id": "Fy-j45nnCiLs",
        "outputId": "873db92e-c585-4141-fe17-814d5c09a07a"
      },
      "execution_count": 49,
      "outputs": [
        {
          "output_type": "stream",
          "name": "stdout",
          "text": [
            "79.83507330259104\n"
          ]
        }
      ]
    },
    {
      "cell_type": "code",
      "source": [
        "from sklearn.metrics import r2_score\n",
        "r2_lstm_20 = r2_score(a, b)\n",
        "r2_lstm_20"
      ],
      "metadata": {
        "colab": {
          "base_uri": "https://localhost:8080/"
        },
        "id": "NE9tzKKp7Wd9",
        "outputId": "e45a00ea-47bc-4f80-dac4-600f8e3dea68"
      },
      "execution_count": 50,
      "outputs": [
        {
          "output_type": "execute_result",
          "data": {
            "text/plain": [
              "0.6326713886155764"
            ]
          },
          "metadata": {},
          "execution_count": 50
        }
      ]
    },
    {
      "cell_type": "markdown",
      "source": [
        "With last 40 timesteps as features"
      ],
      "metadata": {
        "id": "5WZRVfC-zod9"
      }
    },
    {
      "cell_type": "code",
      "source": [
        "train_data_open_40 = []\n",
        "y_train_data_open_40 = []\n",
        "for i in range(40, len(train_open_mms)):\n",
        "    train_data_open_40.append(train_open.flatten()[i-40:i])\n",
        "    y_train_data_open_40.append(train_open.flatten()[i])\n",
        "train_data_open_40 = np.array(train_data_open_40)\n",
        "y_train_data_open_40 = np.array(y_train_data_open_40)\n",
        "\n",
        "train_data_open_40.shape"
      ],
      "metadata": {
        "colab": {
          "base_uri": "https://localhost:8080/"
        },
        "id": "1O3-8tYMzrlE",
        "outputId": "57d88043-5434-4c4a-ce83-18fe8f025f9c"
      },
      "execution_count": 28,
      "outputs": [
        {
          "output_type": "execute_result",
          "data": {
            "text/plain": [
              "(1218, 40)"
            ]
          },
          "metadata": {},
          "execution_count": 28
        }
      ]
    },
    {
      "cell_type": "code",
      "source": [
        "x_40 = train_open.flatten()\n",
        "req_train_40 = x_40[len(x_40)-40:]\n",
        "y_40 = test_open.flatten()\n",
        "z_40 = np.concatenate([req_train_40, y_40])\n",
        "z_1_40 = np.reshape(z_40, (len(z_40), 1))\n",
        "\n",
        "X_test_40 = []\n",
        "for i in range(40, 60):\n",
        "    X_test_40.append(z_1_40.flatten()[i-40:i])\n",
        "X_test_40 = np.array(X_test_40)"
      ],
      "metadata": {
        "id": "p1msCBRxzwbQ"
      },
      "execution_count": 29,
      "outputs": []
    },
    {
      "cell_type": "code",
      "source": [
        "from sklearn.linear_model import LinearRegression\n",
        "reg_40 = LinearRegression()\n",
        "reg_40.fit(train_data_open_40, y_train_data_open_40)\n",
        "y_pred_lr_40 = reg_40.predict(X_test_40)\n",
        "y_pred_lr_40"
      ],
      "metadata": {
        "colab": {
          "base_uri": "https://localhost:8080/"
        },
        "id": "aEoitzpyzy_x",
        "outputId": "86d25e78-aa95-4d72-b0b1-395c3a3c72fe"
      },
      "execution_count": 30,
      "outputs": [
        {
          "output_type": "execute_result",
          "data": {
            "text/plain": [
              "array([782.57954199, 781.63285608, 789.56298071, 789.78010728,\n",
              "       795.67607857, 806.55401922, 809.94430951, 801.57222844,\n",
              "       804.72324558, 810.83411684, 806.363678  , 804.20072738,\n",
              "       803.3884097 , 805.72419185, 807.62786644, 818.79541015,\n",
              "       828.55181016, 839.85471044, 830.94156283, 812.29458551])"
            ]
          },
          "metadata": {},
          "execution_count": 30
        }
      ]
    },
    {
      "cell_type": "code",
      "source": [
        "a = test_open.flatten()\n",
        "err=0\n",
        "b = y_pred_lr_40.flatten()\n",
        "from sklearn.metrics import mean_squared_error as mse\n",
        "err = mse(a, b)\n",
        "print(err)"
      ],
      "metadata": {
        "colab": {
          "base_uri": "https://localhost:8080/"
        },
        "id": "SAzmpF2_z1ur",
        "outputId": "eaf9c106-e7cd-40b1-fe01-031acf420f29"
      },
      "execution_count": 31,
      "outputs": [
        {
          "output_type": "stream",
          "name": "stdout",
          "text": [
            "62.96470672035705\n"
          ]
        }
      ]
    },
    {
      "cell_type": "code",
      "source": [
        "from sklearn.metrics import r2_score\n",
        "r2_lr_40 = r2_score(a, b)\n",
        "r2_lr_40"
      ],
      "metadata": {
        "colab": {
          "base_uri": "https://localhost:8080/"
        },
        "id": "eOj9_HRw9hdD",
        "outputId": "168a15a1-d010-4ffc-c80d-7412f45f061f"
      },
      "execution_count": 32,
      "outputs": [
        {
          "output_type": "execute_result",
          "data": {
            "text/plain": [
              "0.7102935172595928"
            ]
          },
          "metadata": {},
          "execution_count": 32
        }
      ]
    },
    {
      "cell_type": "code",
      "source": [
        "plt.plot(test_open.flatten(), color = 'red', label = 'Real Open Google Stock Price')\n",
        "plt.plot(y_pred_lr_40, color = 'blue', label = 'Predicted Open Google Stock Price')\n",
        "plt.title('Google Stock Price Prediction')\n",
        "plt.xlabel('Time')\n",
        "plt.ylabel('Google Open Stock Price')\n",
        "plt.legend()\n",
        "plt.show()"
      ],
      "metadata": {
        "colab": {
          "base_uri": "https://localhost:8080/",
          "height": 295
        },
        "id": "d2o49ihvz5LX",
        "outputId": "abb99022-7423-4d8c-89eb-ca97a8d6291e"
      },
      "execution_count": 33,
      "outputs": [
        {
          "output_type": "display_data",
          "data": {
            "text/plain": [
              "<Figure size 432x288 with 1 Axes>"
            ],
            "image/png": "[encoded data removed]"
          },
          "metadata": {
            "needs_background": "light"
          }
        }
      ]
    },
    {
      "cell_type": "code",
      "source": [
        "train_data_open = []\n",
        "test_data_open = []\n",
        "for i in range(40, len(train_open_mms)):\n",
        "    train_data_open.append(train_open_mms.flatten()[i-40:i])\n",
        "    test_data_open.append(train_open_mms.flatten()[i])\n",
        "train_data_open = np.array(train_data_open)\n",
        "test_data_open = np.array(test_data_open)\n",
        "\n",
        "\n",
        "from numpy import newaxis\n",
        "train_data_open = train_data_open[:, :, newaxis]\n",
        "train_data_open\n"
      ],
      "metadata": {
        "colab": {
          "base_uri": "https://localhost:8080/"
        },
        "id": "vr_dJWrfByqc",
        "outputId": "3e2213dc-4915-42b3-ce97-541a459edb04"
      },
      "execution_count": 34,
      "outputs": [
        {
          "output_type": "execute_result",
          "data": {
            "text/plain": [
              "array([[[0.08581368],\n",
              "        [0.09701243],\n",
              "        [0.09433366],\n",
              "        ...,\n",
              "        [0.04286033],\n",
              "        [0.04602277],\n",
              "        [0.05398467]],\n",
              "\n",
              "       [[0.09701243],\n",
              "        [0.09433366],\n",
              "        [0.09156187],\n",
              "        ...,\n",
              "        [0.04602277],\n",
              "        [0.05398467],\n",
              "        [0.05738894]],\n",
              "\n",
              "       [[0.09433366],\n",
              "        [0.09156187],\n",
              "        [0.07984225],\n",
              "        ...,\n",
              "        [0.05398467],\n",
              "        [0.05738894],\n",
              "        [0.05714711]],\n",
              "\n",
              "       ...,\n",
              "\n",
              "       [[0.96054394],\n",
              "        [0.9371419 ],\n",
              "        [0.92841729],\n",
              "        ...,\n",
              "        [0.95475854],\n",
              "        [0.95204256],\n",
              "        [0.95163331]],\n",
              "\n",
              "       [[0.9371419 ],\n",
              "        [0.92841729],\n",
              "        [0.90804747],\n",
              "        ...,\n",
              "        [0.95204256],\n",
              "        [0.95163331],\n",
              "        [0.95725128]],\n",
              "\n",
              "       [[0.92841729],\n",
              "        [0.90804747],\n",
              "        [0.8771858 ],\n",
              "        ...,\n",
              "        [0.95163331],\n",
              "        [0.95725128],\n",
              "        [0.93796041]]])"
            ]
          },
          "metadata": {},
          "execution_count": 34
        }
      ]
    },
    {
      "cell_type": "code",
      "source": [
        "model_40 = Sequential()\n",
        "from keras.layers.recurrent import LSTM\n",
        "model_40.add(LSTM(128, input_shape=(40, 1), activation='relu', return_sequences=True))\n",
        "model_40.add(LSTM(64, activation='relu'))\n",
        "\n",
        "\n",
        "model_40.add(Dense(32, activation='relu'))\n",
        "\n",
        "\n",
        "model_40.add(Dense(10, activation='softmax'))\n",
        "model_40.add(Dense(1))\n",
        "\n",
        "model_40.compile(optimizer = 'adam', loss = 'mean_squared_error')\n",
        "final = model_40.fit(train_data_open, test_data_open, epochs = 100)"
      ],
      "metadata": {
        "colab": {
          "base_uri": "https://localhost:8080/"
        },
        "id": "dzUyHlr0BzM_",
        "outputId": "81d8c14c-015d-4a6c-d800-15e5049ffbec"
      },
      "execution_count": 35,
      "outputs": [
        {
          "output_type": "stream",
          "name": "stdout",
          "text": [
            "Epoch 1/100\n",
            "39/39 [==============================] - 10s 125ms/step - loss: 0.0928\n",
            "Epoch 2/100\n",
            "39/39 [==============================] - 5s 125ms/step - loss: 0.0090\n",
            "Epoch 3/100\n",
            "39/39 [==============================] - 5s 124ms/step - loss: 0.0131\n",
            "Epoch 4/100\n",
            "39/39 [==============================] - 5s 124ms/step - loss: 0.0060\n",
            "Epoch 5/100\n",
            "39/39 [==============================] - 5s 124ms/step - loss: 0.0036\n",
            "Epoch 6/100\n",
            "39/39 [==============================] - 5s 123ms/step - loss: 0.0029\n",
            "Epoch 7/100\n",
            "39/39 [==============================] - 5s 125ms/step - loss: 0.0024\n",
            "Epoch 8/100\n",
            "39/39 [==============================] - 5s 123ms/step - loss: 0.0027\n",
            "Epoch 9/100\n",
            "39/39 [==============================] - 5s 124ms/step - loss: 0.0024\n",
            "Epoch 10/100\n",
            "39/39 [==============================] - 5s 125ms/step - loss: 0.0021\n",
            "Epoch 11/100\n",
            "39/39 [==============================] - 5s 125ms/step - loss: 0.0021\n",
            "Epoch 12/100\n",
            "39/39 [==============================] - 5s 123ms/step - loss: 0.0020\n",
            "Epoch 13/100\n",
            "39/39 [==============================] - 5s 124ms/step - loss: 0.0019\n",
            "Epoch 14/100\n",
            "39/39 [==============================] - 5s 124ms/step - loss: 0.0018\n",
            "Epoch 15/100\n",
            "39/39 [==============================] - 5s 125ms/step - loss: 0.0020\n",
            "Epoch 16/100\n",
            "39/39 [==============================] - 5s 124ms/step - loss: 0.0018\n",
            "Epoch 17/100\n",
            "39/39 [==============================] - 5s 125ms/step - loss: 0.0017\n",
            "Epoch 18/100\n",
            "39/39 [==============================] - 5s 125ms/step - loss: 0.0018\n",
            "Epoch 19/100\n",
            "39/39 [==============================] - 5s 125ms/step - loss: 0.0017\n",
            "Epoch 20/100\n",
            "39/39 [==============================] - 5s 126ms/step - loss: 0.0017\n",
            "Epoch 21/100\n",
            "39/39 [==============================] - 5s 123ms/step - loss: 0.0016\n",
            "Epoch 22/100\n",
            "39/39 [==============================] - 5s 125ms/step - loss: 0.0016\n",
            "Epoch 23/100\n",
            "39/39 [==============================] - 5s 124ms/step - loss: 0.0017\n",
            "Epoch 24/100\n",
            "39/39 [==============================] - 5s 132ms/step - loss: 0.0017\n",
            "Epoch 25/100\n",
            "39/39 [==============================] - 5s 125ms/step - loss: 0.0016\n",
            "Epoch 26/100\n",
            "39/39 [==============================] - 5s 126ms/step - loss: 0.0016\n",
            "Epoch 27/100\n",
            "39/39 [==============================] - 5s 126ms/step - loss: 0.0022\n",
            "Epoch 28/100\n",
            "39/39 [==============================] - 5s 126ms/step - loss: 0.0014\n",
            "Epoch 29/100\n",
            "39/39 [==============================] - 5s 126ms/step - loss: 0.0012\n",
            "Epoch 30/100\n",
            "39/39 [==============================] - 5s 125ms/step - loss: 0.0013\n",
            "Epoch 31/100\n",
            "39/39 [==============================] - 5s 125ms/step - loss: 0.0011\n",
            "Epoch 32/100\n",
            "39/39 [==============================] - 5s 124ms/step - loss: 9.7220e-04\n",
            "Epoch 33/100\n",
            "39/39 [==============================] - 5s 125ms/step - loss: 9.5077e-04\n",
            "Epoch 34/100\n",
            "39/39 [==============================] - 5s 123ms/step - loss: 0.0011\n",
            "Epoch 35/100\n",
            "39/39 [==============================] - 5s 125ms/step - loss: 0.0013\n",
            "Epoch 36/100\n",
            "39/39 [==============================] - 5s 125ms/step - loss: 9.3110e-04\n",
            "Epoch 37/100\n",
            "39/39 [==============================] - 5s 125ms/step - loss: 8.2236e-04\n",
            "Epoch 38/100\n",
            "39/39 [==============================] - 5s 125ms/step - loss: 7.9734e-04\n",
            "Epoch 39/100\n",
            "39/39 [==============================] - 5s 125ms/step - loss: 7.9111e-04\n",
            "Epoch 40/100\n",
            "39/39 [==============================] - 5s 126ms/step - loss: 7.5818e-04\n",
            "Epoch 41/100\n",
            "39/39 [==============================] - 5s 125ms/step - loss: 7.4490e-04\n",
            "Epoch 42/100\n",
            "39/39 [==============================] - 5s 124ms/step - loss: 8.7786e-04\n",
            "Epoch 43/100\n",
            "39/39 [==============================] - 5s 125ms/step - loss: 7.3985e-04\n",
            "Epoch 44/100\n",
            "39/39 [==============================] - 5s 125ms/step - loss: 7.4878e-04\n",
            "Epoch 45/100\n",
            "39/39 [==============================] - 5s 124ms/step - loss: 6.7751e-04\n",
            "Epoch 46/100\n",
            "39/39 [==============================] - 5s 125ms/step - loss: 6.4121e-04\n",
            "Epoch 47/100\n",
            "39/39 [==============================] - 5s 125ms/step - loss: 6.3645e-04\n",
            "Epoch 48/100\n",
            "39/39 [==============================] - 5s 125ms/step - loss: 5.8517e-04\n",
            "Epoch 49/100\n",
            "39/39 [==============================] - 5s 125ms/step - loss: 5.6533e-04\n",
            "Epoch 50/100\n",
            "39/39 [==============================] - 5s 126ms/step - loss: 5.2254e-04\n",
            "Epoch 51/100\n",
            "39/39 [==============================] - 5s 124ms/step - loss: 5.5787e-04\n",
            "Epoch 52/100\n",
            "39/39 [==============================] - 5s 126ms/step - loss: 5.0670e-04\n",
            "Epoch 53/100\n",
            "39/39 [==============================] - 5s 124ms/step - loss: 5.3548e-04\n",
            "Epoch 54/100\n",
            "39/39 [==============================] - 5s 125ms/step - loss: 5.6560e-04\n",
            "Epoch 55/100\n",
            "39/39 [==============================] - 5s 125ms/step - loss: 5.2727e-04\n",
            "Epoch 56/100\n",
            "39/39 [==============================] - 5s 124ms/step - loss: 4.6570e-04\n",
            "Epoch 57/100\n",
            "39/39 [==============================] - 5s 126ms/step - loss: 4.7394e-04\n",
            "Epoch 58/100\n",
            "39/39 [==============================] - 5s 124ms/step - loss: 4.5185e-04\n",
            "Epoch 59/100\n",
            "39/39 [==============================] - 5s 125ms/step - loss: 4.5751e-04\n",
            "Epoch 60/100\n",
            "39/39 [==============================] - 5s 124ms/step - loss: 4.4041e-04\n",
            "Epoch 61/100\n",
            "39/39 [==============================] - 5s 125ms/step - loss: 5.9849e-04\n",
            "Epoch 62/100\n",
            "39/39 [==============================] - 5s 125ms/step - loss: 5.0587e-04\n",
            "Epoch 63/100\n",
            "39/39 [==============================] - 5s 126ms/step - loss: 4.5260e-04\n",
            "Epoch 64/100\n",
            "39/39 [==============================] - 5s 125ms/step - loss: 4.2081e-04\n",
            "Epoch 65/100\n",
            "39/39 [==============================] - 5s 125ms/step - loss: 5.4206e-04\n",
            "Epoch 66/100\n",
            "39/39 [==============================] - 5s 125ms/step - loss: 4.3303e-04\n",
            "Epoch 67/100\n",
            "39/39 [==============================] - 5s 127ms/step - loss: 4.6945e-04\n",
            "Epoch 68/100\n",
            "39/39 [==============================] - 5s 125ms/step - loss: 5.3951e-04\n",
            "Epoch 69/100\n",
            "39/39 [==============================] - 5s 124ms/step - loss: 4.7945e-04\n",
            "Epoch 70/100\n",
            "39/39 [==============================] - 5s 126ms/step - loss: 4.1015e-04\n",
            "Epoch 71/100\n",
            "39/39 [==============================] - 5s 126ms/step - loss: 3.7463e-04\n",
            "Epoch 72/100\n",
            "39/39 [==============================] - 5s 125ms/step - loss: 4.3958e-04\n",
            "Epoch 73/100\n",
            "39/39 [==============================] - 5s 125ms/step - loss: 4.3091e-04\n",
            "Epoch 74/100\n",
            "39/39 [==============================] - 5s 125ms/step - loss: 3.7920e-04\n",
            "Epoch 75/100\n",
            "39/39 [==============================] - 5s 126ms/step - loss: 3.9338e-04\n",
            "Epoch 76/100\n",
            "39/39 [==============================] - 5s 126ms/step - loss: 3.7999e-04\n",
            "Epoch 77/100\n",
            "39/39 [==============================] - 5s 125ms/step - loss: 4.0204e-04\n",
            "Epoch 78/100\n",
            "39/39 [==============================] - 5s 125ms/step - loss: 4.0758e-04\n",
            "Epoch 79/100\n",
            "39/39 [==============================] - 5s 124ms/step - loss: 4.1962e-04\n",
            "Epoch 80/100\n",
            "39/39 [==============================] - 5s 125ms/step - loss: 3.7948e-04\n",
            "Epoch 81/100\n",
            "39/39 [==============================] - 5s 125ms/step - loss: 3.8552e-04\n",
            "Epoch 82/100\n",
            "39/39 [==============================] - 5s 125ms/step - loss: 4.0678e-04\n",
            "Epoch 83/100\n",
            "39/39 [==============================] - 5s 124ms/step - loss: 3.7097e-04\n",
            "Epoch 84/100\n",
            "39/39 [==============================] - 5s 125ms/step - loss: 3.6786e-04\n",
            "Epoch 85/100\n",
            "39/39 [==============================] - 5s 125ms/step - loss: 0.0012\n",
            "Epoch 86/100\n",
            "39/39 [==============================] - 5s 126ms/step - loss: 4.1972e-04\n",
            "Epoch 87/100\n",
            "39/39 [==============================] - 5s 126ms/step - loss: 4.2220e-04\n",
            "Epoch 88/100\n",
            "39/39 [==============================] - 5s 125ms/step - loss: 3.6689e-04\n",
            "Epoch 89/100\n",
            "39/39 [==============================] - 5s 125ms/step - loss: 4.2070e-04\n",
            "Epoch 90/100\n",
            "39/39 [==============================] - 5s 125ms/step - loss: 4.2886e-04\n",
            "Epoch 91/100\n",
            "39/39 [==============================] - 5s 125ms/step - loss: 3.7532e-04\n",
            "Epoch 92/100\n",
            "39/39 [==============================] - 5s 124ms/step - loss: 3.3611e-04\n",
            "Epoch 93/100\n",
            "39/39 [==============================] - 5s 126ms/step - loss: 3.5362e-04\n",
            "Epoch 94/100\n",
            "39/39 [==============================] - 5s 125ms/step - loss: 3.7364e-04\n",
            "Epoch 95/100\n",
            "39/39 [==============================] - 5s 124ms/step - loss: 3.9675e-04\n",
            "Epoch 96/100\n",
            "39/39 [==============================] - 5s 124ms/step - loss: 3.1020e-04\n",
            "Epoch 97/100\n",
            "39/39 [==============================] - 5s 124ms/step - loss: 3.4677e-04\n",
            "Epoch 98/100\n",
            "39/39 [==============================] - 5s 125ms/step - loss: 3.6903e-04\n",
            "Epoch 99/100\n",
            "39/39 [==============================] - 5s 125ms/step - loss: 3.2879e-04\n",
            "Epoch 100/100\n",
            "39/39 [==============================] - 5s 125ms/step - loss: 3.6891e-04\n"
          ]
        }
      ]
    },
    {
      "cell_type": "code",
      "source": [
        "plt.plot(final.history['loss'], label='train loss')\n",
        "plt.legend()\n",
        "plt.show()"
      ],
      "metadata": {
        "colab": {
          "base_uri": "https://localhost:8080/",
          "height": 265
        },
        "id": "cUJIAEY1dI2d",
        "outputId": "f1607b38-76e4-4ca1-a4f4-78f0c4677bc1"
      },
      "execution_count": null,
      "outputs": [
        {
          "output_type": "display_data",
          "data": {
            "text/plain": [
              "<Figure size 432x288 with 1 Axes>"
            ],
            "image/png": "[encoded data removed]"
          },
          "metadata": {
            "needs_background": "light"
          }
        }
      ]
    },
    {
      "cell_type": "code",
      "source": [
        "x = train_open.flatten()\n",
        "req_train = x[len(x)-40:]\n",
        "y = test_open.flatten()\n",
        "z = np.concatenate([req_train, y])\n",
        "z_1 = np.reshape(z, (len(z), 1))\n",
        "mms = MinMaxScaler(feature_range = (0, 1))\n",
        "\n",
        "z_2 = mms.fit_transform(z_1)\n",
        "X_test = []\n",
        "for i in range(40, 60):\n",
        "    X_test.append(z_2.flatten()[i-40:i])\n",
        "X_test = np.array(X_test)\n"
      ],
      "metadata": {
        "id": "M8uGxEutB53z"
      },
      "execution_count": 36,
      "outputs": []
    },
    {
      "cell_type": "code",
      "source": [
        "pred_open = model_40.predict(X_test)\n",
        "\n",
        "pred_open_ = mms.inverse_transform(pred_open)\n",
        "plt.plot(test_open, color = 'red', label = 'Real Open Google Stock Price')\n",
        "plt.plot(pred_open_, color = 'blue', label = 'Predicted Open Google Stock Price')\n",
        "plt.title('Google Stock Price Prediction')\n",
        "plt.xlabel('Time')\n",
        "plt.ylabel('Google Open Stock Price')\n",
        "plt.legend()\n",
        "plt.show()"
      ],
      "metadata": {
        "colab": {
          "base_uri": "https://localhost:8080/",
          "height": 295
        },
        "id": "amdlaJVCB9_Y",
        "outputId": "8c418ba6-62b9-4170-af46-0b8a0630c912"
      },
      "execution_count": 37,
      "outputs": [
        {
          "output_type": "display_data",
          "data": {
            "text/plain": [
              "<Figure size 432x288 with 1 Axes>"
            ],
            "image/png": "[encoded data removed]"
          },
          "metadata": {
            "needs_background": "light"
          }
        }
      ]
    },
    {
      "cell_type": "code",
      "source": [
        "a = test_open.flatten()\n",
        "err=0\n",
        "b = pred_open_.flatten()\n",
        "from sklearn.metrics import mean_squared_error as mse\n",
        "err = mse(a, b)\n",
        "print(err)"
      ],
      "metadata": {
        "colab": {
          "base_uri": "https://localhost:8080/"
        },
        "id": "GBFA--wUDDHo",
        "outputId": "85733e3f-8b36-41c0-9ec5-0158926df105"
      },
      "execution_count": 38,
      "outputs": [
        {
          "output_type": "stream",
          "name": "stdout",
          "text": [
            "87.9580875999274\n"
          ]
        }
      ]
    },
    {
      "cell_type": "code",
      "source": [
        "from sklearn.metrics import r2_score\n",
        "r2_lstm_40 = r2_score(a, b)\n",
        "r2_lstm_40"
      ],
      "metadata": {
        "colab": {
          "base_uri": "https://localhost:8080/"
        },
        "id": "TVFrzIZJ9z7j",
        "outputId": "d7dbe255-5e06-4ec8-b415-e750ff077a1d"
      },
      "execution_count": 39,
      "outputs": [
        {
          "output_type": "execute_result",
          "data": {
            "text/plain": [
              "0.5952966429222002"
            ]
          },
          "metadata": {},
          "execution_count": 39
        }
      ]
    },
    {
      "cell_type": "markdown",
      "source": [
        "With last 60 timesteps as features"
      ],
      "metadata": {
        "id": "5J-kczQx6qf9"
      }
    },
    {
      "cell_type": "code",
      "source": [
        "train_data_open = []\n",
        "test_data_open = []\n",
        "for i in range(60, len(train_open_mms)):\n",
        "    train_data_open.append(train_open_mms.flatten()[i-60:i])\n",
        "    test_data_open.append(train_open_mms.flatten()[i])\n",
        "train_data_open = np.array(train_data_open)\n",
        "test_data_open = np.array(test_data_open)\n",
        "\n",
        "train_data_open.shape"
      ],
      "metadata": {
        "colab": {
          "base_uri": "https://localhost:8080/"
        },
        "id": "sXPqDxjBV3BV",
        "outputId": "8e2bd6b8-30d2-450c-b719-8fd67b6377d9"
      },
      "execution_count": null,
      "outputs": [
        {
          "output_type": "execute_result",
          "data": {
            "text/plain": [
              "(1198, 60)"
            ]
          },
          "metadata": {},
          "execution_count": 107
        }
      ]
    },
    {
      "cell_type": "code",
      "source": [
        "\n",
        "x_60 = train_open.flatten()\n",
        "req_train_60 = x_60[len(x_60)-60:]\n",
        "y_60 = test_open.flatten()\n",
        "z_60 = np.concatenate([req_train_60, y_60])\n",
        "z_1_60 = np.reshape(z_60, (len(z_60), 1))\n",
        "\n",
        "X_test_60 = []\n",
        "for i in range(60, 80):\n",
        "    X_test_60.append(z_1_60.flatten()[i-60:i])\n",
        "X_test_60 = np.array(X_test_60)"
      ],
      "metadata": {
        "id": "QykcRrCx7Nqp"
      },
      "execution_count": null,
      "outputs": []
    },
    {
      "cell_type": "code",
      "source": [
        "from sklearn.linear_model import LinearRegression\n",
        "reg_60 = LinearRegression()\n",
        "reg_60.fit(train_data_open, test_data_open)\n",
        "y_pred_lr_60 = reg_60.predict(X_test_60)\n",
        "y_pred_lr_60"
      ],
      "metadata": {
        "colab": {
          "base_uri": "https://localhost:8080/"
        },
        "id": "OTZF1RxH61j1",
        "outputId": "40b17912-8fc0-477a-9d73-4e5476b04037"
      },
      "execution_count": null,
      "outputs": [
        {
          "output_type": "execute_result",
          "data": {
            "text/plain": [
              "array([782.22031572, 778.7615305 , 787.62804266, 789.60752677,\n",
              "       796.67161457, 805.95309191, 808.73970387, 802.80821573,\n",
              "       802.51349074, 813.58879383, 805.06560028, 808.18558086,\n",
              "       801.997823  , 798.91691933, 810.06171943, 817.99885072,\n",
              "       825.27719151, 843.26511973, 828.21059641, 809.02859332])"
            ]
          },
          "metadata": {},
          "execution_count": 109
        }
      ]
    },
    {
      "cell_type": "code",
      "source": [
        "a = test_open.flatten()\n",
        "err=0\n",
        "b = y_pred_lr_60.flatten()\n",
        "from sklearn.metrics import mean_squared_error as mse\n",
        "err = mse(a, b)\n",
        "print(err)\n"
      ],
      "metadata": {
        "colab": {
          "base_uri": "https://localhost:8080/"
        },
        "id": "avDFZl9f62r6",
        "outputId": "9014ccd9-2904-49db-eac2-f7bee959cd32"
      },
      "execution_count": null,
      "outputs": [
        {
          "output_type": "stream",
          "name": "stdout",
          "text": [
            "64.32344182853454\n"
          ]
        }
      ]
    },
    {
      "cell_type": "code",
      "source": [
        "from sklearn.metrics import r2_score\n",
        "r2_lr_60 = r2_score(a, b)\n",
        "r2_lr_60"
      ],
      "metadata": {
        "colab": {
          "base_uri": "https://localhost:8080/"
        },
        "id": "TcLqvtICLl-Z",
        "outputId": "e3bf7534-f9e9-433b-b932-f53cbc571e11"
      },
      "execution_count": null,
      "outputs": [
        {
          "output_type": "execute_result",
          "data": {
            "text/plain": [
              "0.7040418504184488"
            ]
          },
          "metadata": {},
          "execution_count": 111
        }
      ]
    },
    {
      "cell_type": "code",
      "source": [
        "plt.plot(test_open.flatten(), color = 'red', label = 'Real Open Google Stock Price')\n",
        "plt.plot(y_pred_lr_60, color = 'blue', label = 'Predicted Open Google Stock Price')\n",
        "plt.title('Google Stock Price Prediction')\n",
        "plt.xlabel('Time')\n",
        "plt.ylabel('Google Open Stock Price')\n",
        "plt.legend()\n",
        "plt.show()"
      ],
      "metadata": {
        "colab": {
          "base_uri": "https://localhost:8080/",
          "height": 295
        },
        "id": "Ib_V9iik649M",
        "outputId": "123c77ad-746e-437e-d090-879151339ad4"
      },
      "execution_count": null,
      "outputs": [
        {
          "output_type": "display_data",
          "data": {
            "text/plain": [
              "<Figure size 432x288 with 1 Axes>"
            ],
            "image/png": "[encoded data removed]"
          },
          "metadata": {
            "needs_background": "light"
          }
        }
      ]
    },
    {
      "cell_type": "code",
      "source": [
        "train_data_high = []\n",
        "test_data_high = []\n",
        "for i in range(60, len(train_high_mms)):\n",
        "    train_data_high.append(train_high_mms.flatten()[i-60:i])\n",
        "    test_data_high.append(train_high_mms.flatten()[i])\n",
        "train_data_high = np.array(train_data_high)\n",
        "test_data_high = np.array(test_data_high)\n",
        "\n",
        "train_data_high.shape"
      ],
      "metadata": {
        "colab": {
          "base_uri": "https://localhost:8080/"
        },
        "id": "vYJcUtIr6w4E",
        "outputId": "404db555-aec3-4524-ae65-d3a56abd9840"
      },
      "execution_count": null,
      "outputs": [
        {
          "output_type": "execute_result",
          "data": {
            "text/plain": [
              "(1198, 60)"
            ]
          },
          "metadata": {},
          "execution_count": 113
        }
      ]
    },
    {
      "cell_type": "code",
      "source": [
        "train_data_low = []\n",
        "test_data_low = []\n",
        "for i in range(60, len(train_low_mms)):\n",
        "    train_data_low.append(train_low_mms.flatten()[i-60:i])\n",
        "    test_data_low.append(train_low_mms.flatten()[i])\n",
        "train_data_low = np.array(train_data_low)\n",
        "test_data_low = np.array(test_data_low)\n",
        "\n",
        "train_data_low.shape"
      ],
      "metadata": {
        "colab": {
          "base_uri": "https://localhost:8080/"
        },
        "id": "QjI3lsoC7XLI",
        "outputId": "f0a6ca01-2851-4165-c0d4-39063efc425f"
      },
      "execution_count": null,
      "outputs": [
        {
          "output_type": "execute_result",
          "data": {
            "text/plain": [
              "(1198, 60)"
            ]
          },
          "metadata": {},
          "execution_count": 114
        }
      ]
    },
    {
      "cell_type": "code",
      "source": [
        "train_data_close = []\n",
        "test_data_close = []\n",
        "for i in range(60, len(train_close_mms)):\n",
        "    train_data_close.append(train_close_mms.flatten()[i-60:i])\n",
        "    test_data_close.append(train_close_mms.flatten()[i])\n",
        "train_data_close = np.array(train_data_close)\n",
        "test_data_close = np.array(test_data_close)\n",
        "\n",
        "train_data_close.shape"
      ],
      "metadata": {
        "colab": {
          "base_uri": "https://localhost:8080/"
        },
        "id": "IGS2E2bF7m-I",
        "outputId": "e251453e-2df9-4d62-de9b-08e34a2e4647"
      },
      "execution_count": null,
      "outputs": [
        {
          "output_type": "execute_result",
          "data": {
            "text/plain": [
              "(1198, 60)"
            ]
          },
          "metadata": {},
          "execution_count": 115
        }
      ]
    },
    {
      "cell_type": "code",
      "source": [
        "train_data_vol = []\n",
        "test_data_vol = []\n",
        "for i in range(60, len(train_vol_mms)):\n",
        "    train_data_vol.append(train_vol_mms.flatten()[i-60:i])\n",
        "    test_data_vol.append(train_vol_mms.flatten()[i])\n",
        "train_data_vol = np.array(train_data_vol)\n",
        "test_data_vol = np.array(test_data_vol)\n",
        "\n",
        "train_data_vol.shape"
      ],
      "metadata": {
        "colab": {
          "base_uri": "https://localhost:8080/"
        },
        "id": "YC6D4R3X8RKr",
        "outputId": "e2917e63-163e-486b-aaa0-258475d41cc4"
      },
      "execution_count": null,
      "outputs": [
        {
          "output_type": "execute_result",
          "data": {
            "text/plain": [
              "(1198, 60)"
            ]
          },
          "metadata": {},
          "execution_count": 116
        }
      ]
    },
    {
      "cell_type": "markdown",
      "source": [
        "Converting to RNN required input"
      ],
      "metadata": {
        "id": "OX6Qi1gmxboc"
      }
    },
    {
      "cell_type": "code",
      "source": [
        "from numpy import newaxis\n",
        "\n",
        "train_data_open = train_data_open[:, :, newaxis]\n",
        "train_data_open.shape"
      ],
      "metadata": {
        "colab": {
          "base_uri": "https://localhost:8080/"
        },
        "id": "P7hOP2UZqkMb",
        "outputId": "145bdcc3-41a5-46a6-973a-fc6fd860a81a"
      },
      "execution_count": null,
      "outputs": [
        {
          "output_type": "execute_result",
          "data": {
            "text/plain": [
              "(1198, 60, 1)"
            ]
          },
          "metadata": {},
          "execution_count": 117
        }
      ]
    },
    {
      "cell_type": "code",
      "source": [
        "train_data_high = train_data_high[:, :, newaxis]\n",
        "train_data_high.shape\n",
        "train_data_low = train_data_low[:, :, newaxis]\n",
        "\n",
        "train_data_close = train_data_close[:, :, newaxis]\n",
        "train_data_vol = train_data_vol[:, :, newaxis]\n"
      ],
      "metadata": {
        "id": "Ol8XzOtt8r6V"
      },
      "execution_count": null,
      "outputs": []
    },
    {
      "cell_type": "code",
      "source": [
        "x = train_open.flatten()\n",
        "req_train = x[len(x)-60:]"
      ],
      "metadata": {
        "id": "zQtI3mraq4Tq"
      },
      "execution_count": null,
      "outputs": []
    },
    {
      "cell_type": "code",
      "source": [
        "req_train.shape"
      ],
      "metadata": {
        "colab": {
          "base_uri": "https://localhost:8080/"
        },
        "id": "1spDgZHAz4x5",
        "outputId": "3de9995c-fafc-4e07-b657-6742502e2eda"
      },
      "execution_count": null,
      "outputs": [
        {
          "output_type": "execute_result",
          "data": {
            "text/plain": [
              "(60,)"
            ]
          },
          "metadata": {},
          "execution_count": 120
        }
      ]
    },
    {
      "cell_type": "code",
      "source": [
        "y = test_open.flatten()\n",
        "z = np.concatenate([req_train, y])"
      ],
      "metadata": {
        "id": "hcmAMwRJ1QtZ"
      },
      "execution_count": null,
      "outputs": []
    },
    {
      "cell_type": "code",
      "source": [
        "z_1 = np.reshape(z, (len(z), 1))\n"
      ],
      "metadata": {
        "id": "MKBrebPA1sDY"
      },
      "execution_count": null,
      "outputs": []
    },
    {
      "cell_type": "code",
      "source": [
        "mms = MinMaxScaler(feature_range = (0, 1))\n",
        "\n",
        "z_2 = mms.fit_transform(z_1)"
      ],
      "metadata": {
        "id": "B1oU1FB32O4v"
      },
      "execution_count": null,
      "outputs": []
    },
    {
      "cell_type": "code",
      "source": [
        "X_test = []\n",
        "for i in range(60, 80):\n",
        "    X_test.append(z_2.flatten()[i-60:i])\n",
        "X_test = np.array(X_test)\n"
      ],
      "metadata": {
        "id": "OPpz_mrd2-0s"
      },
      "execution_count": null,
      "outputs": []
    },
    {
      "cell_type": "code",
      "source": [
        "x = train_high.flatten()\n",
        "req_train = x[len(x)-60:]\n",
        "y = test_high.flatten()\n",
        "z = np.concatenate([req_train, y])\n",
        "z_1 = np.reshape(z, (len(z), 1))\n",
        "mms_test_high = MinMaxScaler(feature_range = (0, 1))\n",
        "\n",
        "z_2 = mms_test_high.fit_transform(z_1)\n",
        "X_test_high = []\n",
        "for i in range(60, 80):\n",
        "    X_test_high.append(z_2.flatten()[i-60:i])\n",
        "X_test_high = np.array(X_test_high)\n"
      ],
      "metadata": {
        "id": "wGvZ4oYC9jwb"
      },
      "execution_count": null,
      "outputs": []
    },
    {
      "cell_type": "code",
      "source": [
        "x = train_low.flatten()\n",
        "req_train = x[len(x)-60:]\n",
        "y = test_low.flatten()\n",
        "z = np.concatenate([req_train, y])\n",
        "z_1 = np.reshape(z, (len(z), 1))\n",
        "mms_test_low = MinMaxScaler(feature_range = (0, 1))\n",
        "\n",
        "z_2 = mms_test_low.fit_transform(z_1)\n",
        "X_test_low = []\n",
        "for i in range(60, 80):\n",
        "    X_test_low.append(z_2.flatten()[i-60:i])\n",
        "X_test_low = np.array(X_test_low)\n"
      ],
      "metadata": {
        "id": "6r24fPtY9kGt"
      },
      "execution_count": null,
      "outputs": []
    },
    {
      "cell_type": "code",
      "source": [
        "x = train_close_2D.flatten()\n",
        "req_train = x[len(x)-60:]\n",
        "y = test_close_2D.flatten()\n",
        "z = np.concatenate([req_train, y])\n",
        "z_1 = np.reshape(z, (len(z), 1))\n",
        "mms_test_close = MinMaxScaler(feature_range = (0, 1))\n",
        "\n",
        "z_2 = mms_test_close.fit_transform(z_1)\n",
        "X_test_close = []\n",
        "for i in range(60, 80):\n",
        "    X_test_close.append(z_2.flatten()[i-60:i])\n",
        "X_test_close = np.array(X_test_close)\n"
      ],
      "metadata": {
        "id": "10rO1lj3-JKN"
      },
      "execution_count": null,
      "outputs": []
    },
    {
      "cell_type": "code",
      "source": [
        "x = train_vol_2D.flatten()\n",
        "req_train = x[len(x)-60:]\n",
        "y = test_vol_2D.flatten()\n",
        "z = np.concatenate([req_train, y])\n",
        "z_1 = np.reshape(z, (len(z), 1))\n",
        "mms_test_vol = MinMaxScaler(feature_range = (0, 1))\n",
        "\n",
        "z_2 = mms_test_vol.fit_transform(z_1)\n",
        "X_test_vol = []\n",
        "for i in range(60, 80):\n",
        "    X_test_vol.append(z_2.flatten()[i-60:i])\n",
        "X_test_vol = np.array(X_test_high)\n"
      ],
      "metadata": {
        "id": "qtjDftRF-WeU"
      },
      "execution_count": null,
      "outputs": []
    },
    {
      "cell_type": "markdown",
      "source": [
        "Regression Model"
      ],
      "metadata": {
        "id": "vfzRPVSF4pzP"
      }
    },
    {
      "cell_type": "code",
      "source": [
        "import numpy as np\n",
        "import keras\n",
        "from keras.models import Model\n",
        "from keras.layers import Dense, Input\n",
        "from keras.layers import Dropout\n",
        "import numpy as np\n"
      ],
      "metadata": {
        "id": "gnka1Wq_33ez"
      },
      "execution_count": null,
      "outputs": []
    },
    {
      "cell_type": "code",
      "source": [
        "import tensorflow as tf\n",
        "import matplotlib.pyplot as plt\n",
        "from keras import Sequential\n"
      ],
      "metadata": {
        "id": "F_lZUUJz4Ark"
      },
      "execution_count": null,
      "outputs": []
    },
    {
      "cell_type": "code",
      "source": [
        "train_data_open.shape"
      ],
      "metadata": {
        "colab": {
          "base_uri": "https://localhost:8080/"
        },
        "id": "OH38CIbDA1Db",
        "outputId": "4d10c8b4-76c9-4717-d6a5-0d7c16dbad81"
      },
      "execution_count": null,
      "outputs": [
        {
          "output_type": "execute_result",
          "data": {
            "text/plain": [
              "(1198, 60, 1)"
            ]
          },
          "metadata": {},
          "execution_count": 131
        }
      ]
    },
    {
      "cell_type": "code",
      "source": [
        "model_60 = Sequential()\n",
        "from keras.layers.recurrent import LSTM\n",
        "model_60.add(LSTM(128, input_shape=(60, 1), activation='relu', return_sequences=True))\n",
        "\n",
        "\n",
        "model_60.add(LSTM(96, activation='relu'))\n",
        "\n",
        "model_60.add(Dense(1))\n",
        "\n",
        "\n",
        "model_60.compile(optimizer = 'adam', loss = 'mean_squared_error')\n",
        "model_60.fit(train_data_open, test_data_open, epochs = 83)"
      ],
      "metadata": {
        "colab": {
          "base_uri": "https://localhost:8080/"
        },
        "id": "WuzFodNg_gC1",
        "outputId": "eaf5c378-b000-4edc-8947-3a76d2f73e0e"
      },
      "execution_count": null,
      "outputs": [
        {
          "output_type": "stream",
          "name": "stdout",
          "text": [
            "Epoch 1/83\n",
            "38/38 [==============================] - 38s 253ms/step - loss: 0.0427\n",
            "Epoch 2/83\n",
            "38/38 [==============================] - 10s 251ms/step - loss: 0.0013\n",
            "Epoch 3/83\n",
            "38/38 [==============================] - 10s 251ms/step - loss: 0.0010\n",
            "Epoch 4/83\n",
            "38/38 [==============================] - 10s 251ms/step - loss: 0.0010\n",
            "Epoch 5/83\n",
            "38/38 [==============================] - 10s 254ms/step - loss: 9.8746e-04\n",
            "Epoch 6/83\n",
            "38/38 [==============================] - 10s 251ms/step - loss: 9.9017e-04\n",
            "Epoch 7/83\n",
            "38/38 [==============================] - 10s 249ms/step - loss: 9.2454e-04\n",
            "Epoch 8/83\n",
            "38/38 [==============================] - 10s 252ms/step - loss: 8.5499e-04\n",
            "Epoch 9/83\n",
            "38/38 [==============================] - 10s 252ms/step - loss: 8.0066e-04\n",
            "Epoch 10/83\n",
            "38/38 [==============================] - 10s 251ms/step - loss: 8.3279e-04\n",
            "Epoch 11/83\n",
            "38/38 [==============================] - 10s 252ms/step - loss: 0.0010\n",
            "Epoch 12/83\n",
            "38/38 [==============================] - 10s 253ms/step - loss: 7.7149e-04\n",
            "Epoch 13/83\n",
            "38/38 [==============================] - 10s 251ms/step - loss: 7.6583e-04\n",
            "Epoch 14/83\n",
            "38/38 [==============================] - 10s 251ms/step - loss: 6.3680e-04\n",
            "Epoch 15/83\n",
            "38/38 [==============================] - 10s 251ms/step - loss: 6.4014e-04\n",
            "Epoch 16/83\n",
            "38/38 [==============================] - 10s 250ms/step - loss: 7.1691e-04\n",
            "Epoch 17/83\n",
            "38/38 [==============================] - 10s 250ms/step - loss: 5.7373e-04\n",
            "Epoch 18/83\n",
            "38/38 [==============================] - 10s 251ms/step - loss: 5.3216e-04\n",
            "Epoch 19/83\n",
            "38/38 [==============================] - 10s 251ms/step - loss: 5.9255e-04\n",
            "Epoch 20/83\n",
            "38/38 [==============================] - 9s 249ms/step - loss: 5.4366e-04\n",
            "Epoch 21/83\n",
            "38/38 [==============================] - 9s 248ms/step - loss: 5.3781e-04\n",
            "Epoch 22/83\n",
            "38/38 [==============================] - 10s 252ms/step - loss: 4.5670e-04\n",
            "Epoch 23/83\n",
            "38/38 [==============================] - 9s 248ms/step - loss: 5.4856e-04\n",
            "Epoch 24/83\n",
            "38/38 [==============================] - 9s 247ms/step - loss: 5.4258e-04\n",
            "Epoch 25/83\n",
            "38/38 [==============================] - 9s 247ms/step - loss: 4.3025e-04\n",
            "Epoch 26/83\n",
            "38/38 [==============================] - 9s 249ms/step - loss: 5.2835e-04\n",
            "Epoch 27/83\n",
            "38/38 [==============================] - 9s 248ms/step - loss: 4.3077e-04\n",
            "Epoch 28/83\n",
            "38/38 [==============================] - 13s 337ms/step - loss: 3.6779e-04\n",
            "Epoch 29/83\n",
            "38/38 [==============================] - 12s 307ms/step - loss: 3.5238e-04\n",
            "Epoch 30/83\n",
            "38/38 [==============================] - 10s 250ms/step - loss: 3.5257e-04\n",
            "Epoch 31/83\n",
            "38/38 [==============================] - 10s 256ms/step - loss: 3.6381e-04\n",
            "Epoch 32/83\n",
            "38/38 [==============================] - 10s 254ms/step - loss: 3.4898e-04\n",
            "Epoch 33/83\n",
            "38/38 [==============================] - 10s 251ms/step - loss: 3.4253e-04\n",
            "Epoch 34/83\n",
            "38/38 [==============================] - 9s 249ms/step - loss: 4.1783e-04\n",
            "Epoch 35/83\n",
            "38/38 [==============================] - 9s 247ms/step - loss: 4.4105e-04\n",
            "Epoch 36/83\n",
            "38/38 [==============================] - 9s 249ms/step - loss: 3.9309e-04\n",
            "Epoch 37/83\n",
            "38/38 [==============================] - 9s 248ms/step - loss: 3.6755e-04\n",
            "Epoch 38/83\n",
            "38/38 [==============================] - 9s 245ms/step - loss: 3.5328e-04\n",
            "Epoch 39/83\n",
            "38/38 [==============================] - 9s 248ms/step - loss: 3.8982e-04\n",
            "Epoch 40/83\n",
            "38/38 [==============================] - 9s 247ms/step - loss: 3.5308e-04\n",
            "Epoch 41/83\n",
            "38/38 [==============================] - 9s 249ms/step - loss: 3.3859e-04\n",
            "Epoch 42/83\n",
            "38/38 [==============================] - 10s 250ms/step - loss: 3.0854e-04\n",
            "Epoch 43/83\n",
            "38/38 [==============================] - 10s 253ms/step - loss: 3.5927e-04\n",
            "Epoch 44/83\n",
            "38/38 [==============================] - 9s 250ms/step - loss: 3.6245e-04\n",
            "Epoch 45/83\n",
            "38/38 [==============================] - 9s 248ms/step - loss: 3.0984e-04\n",
            "Epoch 46/83\n",
            "38/38 [==============================] - 9s 247ms/step - loss: 3.4794e-04\n",
            "Epoch 47/83\n",
            "38/38 [==============================] - 9s 248ms/step - loss: 3.2733e-04\n",
            "Epoch 48/83\n",
            "38/38 [==============================] - 9s 245ms/step - loss: 3.7850e-04\n",
            "Epoch 49/83\n",
            "38/38 [==============================] - 9s 246ms/step - loss: 2.9604e-04\n",
            "Epoch 50/83\n",
            "38/38 [==============================] - 9s 247ms/step - loss: 3.0020e-04\n",
            "Epoch 51/83\n",
            "38/38 [==============================] - 9s 248ms/step - loss: 3.0948e-04\n",
            "Epoch 52/83\n",
            "38/38 [==============================] - 9s 248ms/step - loss: 2.9344e-04\n",
            "Epoch 53/83\n",
            "38/38 [==============================] - 10s 257ms/step - loss: 3.0463e-04\n",
            "Epoch 54/83\n",
            "38/38 [==============================] - 10s 257ms/step - loss: 3.4448e-04\n",
            "Epoch 55/83\n",
            "38/38 [==============================] - 10s 259ms/step - loss: 3.1671e-04\n",
            "Epoch 56/83\n",
            "38/38 [==============================] - 10s 259ms/step - loss: 3.1989e-04\n",
            "Epoch 57/83\n",
            "38/38 [==============================] - 10s 257ms/step - loss: 3.3755e-04\n",
            "Epoch 58/83\n",
            "38/38 [==============================] - 10s 251ms/step - loss: 3.4975e-04\n",
            "Epoch 59/83\n",
            "38/38 [==============================] - 10s 255ms/step - loss: 3.3777e-04\n",
            "Epoch 60/83\n",
            "38/38 [==============================] - 10s 252ms/step - loss: 2.8910e-04\n",
            "Epoch 61/83\n",
            "38/38 [==============================] - 10s 252ms/step - loss: 2.7731e-04\n",
            "Epoch 62/83\n",
            "38/38 [==============================] - 10s 253ms/step - loss: 3.4669e-04\n",
            "Epoch 63/83\n",
            "38/38 [==============================] - 10s 257ms/step - loss: 3.2499e-04\n",
            "Epoch 64/83\n",
            "38/38 [==============================] - 10s 257ms/step - loss: 2.9645e-04\n",
            "Epoch 65/83\n",
            "38/38 [==============================] - 10s 251ms/step - loss: 3.5247e-04\n",
            "Epoch 66/83\n",
            "38/38 [==============================] - 10s 253ms/step - loss: 3.0877e-04\n",
            "Epoch 67/83\n",
            "38/38 [==============================] - 10s 251ms/step - loss: 3.4443e-04\n",
            "Epoch 68/83\n",
            "38/38 [==============================] - 10s 251ms/step - loss: 3.0688e-04\n",
            "Epoch 69/83\n",
            "38/38 [==============================] - 9s 248ms/step - loss: 2.7790e-04\n",
            "Epoch 70/83\n",
            "38/38 [==============================] - 9s 248ms/step - loss: 3.4511e-04\n",
            "Epoch 71/83\n",
            "38/38 [==============================] - 10s 250ms/step - loss: 3.2019e-04\n",
            "Epoch 72/83\n",
            "38/38 [==============================] - 10s 251ms/step - loss: 3.1883e-04\n",
            "Epoch 73/83\n",
            "38/38 [==============================] - 9s 249ms/step - loss: 3.1098e-04\n",
            "Epoch 74/83\n",
            "38/38 [==============================] - 10s 253ms/step - loss: 3.5533e-04\n",
            "Epoch 75/83\n",
            "38/38 [==============================] - 10s 255ms/step - loss: 3.4152e-04\n",
            "Epoch 76/83\n",
            "38/38 [==============================] - 10s 254ms/step - loss: 3.1971e-04\n",
            "Epoch 77/83\n",
            "38/38 [==============================] - 10s 251ms/step - loss: 3.2690e-04\n",
            "Epoch 78/83\n",
            "38/38 [==============================] - 10s 264ms/step - loss: 3.4662e-04\n",
            "Epoch 79/83\n",
            "38/38 [==============================] - 10s 256ms/step - loss: 3.0993e-04\n",
            "Epoch 80/83\n",
            "38/38 [==============================] - 10s 257ms/step - loss: 2.7768e-04\n",
            "Epoch 81/83\n",
            "38/38 [==============================] - 10s 268ms/step - loss: 2.6854e-04\n",
            "Epoch 82/83\n",
            "38/38 [==============================] - 13s 352ms/step - loss: 3.6762e-04\n",
            "Epoch 83/83\n",
            "38/38 [==============================] - 11s 293ms/step - loss: 3.2790e-04\n"
          ]
        },
        {
          "output_type": "execute_result",
          "data": {
            "text/plain": [
              "<keras.callbacks.History at 0x7fc82f10aa50>"
            ]
          },
          "metadata": {},
          "execution_count": 133
        }
      ]
    },
    {
      "cell_type": "code",
      "source": [
        "pred_open = model_60.predict(X_test)\n",
        "\n",
        "pred_open_ = mms.inverse_transform(pred_open)\n",
        "plt.plot(test_open, color = 'red', label = 'Real Open Google Stock Price')\n",
        "plt.plot(pred_open_, color = 'blue', label = 'Predicted Open Google Stock Price')\n",
        "plt.title('Google Stock Price Prediction')\n",
        "plt.xlabel('Time')\n",
        "plt.ylabel('Google Open Stock Price')\n",
        "plt.legend()\n",
        "plt.show()"
      ],
      "metadata": {
        "colab": {
          "base_uri": "https://localhost:8080/",
          "height": 295
        },
        "id": "qGWKudagA7kh",
        "outputId": "5d8ea793-d8ae-4dba-8572-390b9de9a8cb"
      },
      "execution_count": null,
      "outputs": [
        {
          "output_type": "display_data",
          "data": {
            "text/plain": [
              "<Figure size 432x288 with 1 Axes>"
            ],
            "image/png": "[encoded data removed]"
          },
          "metadata": {
            "needs_background": "light"
          }
        }
      ]
    },
    {
      "cell_type": "code",
      "source": [
        "a = test_open.flatten()\n",
        "err=0\n",
        "b = pred_open_.flatten()\n",
        "from sklearn.metrics import mean_squared_error as mse\n",
        "err = mse(a, b)\n",
        "print(err)\n"
      ],
      "metadata": {
        "colab": {
          "base_uri": "https://localhost:8080/"
        },
        "id": "lTzt645xDuky",
        "outputId": "34011fff-4859-40bd-f8fd-1641536edb27"
      },
      "execution_count": null,
      "outputs": [
        {
          "output_type": "stream",
          "name": "stdout",
          "text": [
            "85.99185800090599\n"
          ]
        }
      ]
    },
    {
      "cell_type": "code",
      "source": [
        "from sklearn.metrics import r2_score\n",
        "r2_lstm_60 = r2_score(a, b)\n",
        "r2_lstm_60"
      ],
      "metadata": {
        "colab": {
          "base_uri": "https://localhost:8080/"
        },
        "id": "10i0r9W1L1aE",
        "outputId": "9f4fd1a6-6523-416b-c26d-b9e85f1a8da1"
      },
      "execution_count": null,
      "outputs": [
        {
          "output_type": "execute_result",
          "data": {
            "text/plain": [
              "0.6043434485227163"
            ]
          },
          "metadata": {},
          "execution_count": 136
        }
      ]
    },
    {
      "cell_type": "markdown",
      "source": [
        "Future Predictions for the Stock Opening Prices"
      ],
      "metadata": {
        "id": "2ZJHSAoaxipj"
      }
    },
    {
      "cell_type": "code",
      "source": [
        ""
      ],
      "metadata": {
        "id": "AEm6r3Wlxdp7"
      },
      "execution_count": null,
      "outputs": []
    },
    {
      "cell_type": "code",
      "source": [
        "model_1 = Sequential()\n",
        "from keras.layers.recurrent import LSTM\n",
        "model_1.add(LSTM(200, input_shape=(60, 1), activation='relu', return_sequences=True))\n",
        "\n",
        "model_1.add(Dropout(0.2))\n",
        "model_1.add(LSTM(100, activation='relu'))\n",
        "model_1.add(Dropout(0.2))\n",
        "\n",
        "\n",
        "model_1.add(Dense(100, activation='relu'))\n",
        "model_1.add(Dense(10, activation='softmax'))\n",
        "\n",
        "model_1.add(Dropout(0.2))\n",
        "model_1.add(Dense(1))\n",
        "\n",
        "\n",
        "model_1.compile(optimizer = 'adam', loss = 'mean_squared_error')\n",
        "model_1.fit(train_data_open, test_data_open, epochs = 100)"
      ],
      "metadata": {
        "id": "ydqWTs8MHZGJ"
      },
      "execution_count": null,
      "outputs": []
    },
    {
      "cell_type": "code",
      "source": [
        "pred_open_2 = model_1.predict(X_test)\n",
        "\n",
        "pred_open__2 = mms.inverse_transform(pred_open_2)\n",
        "plt.plot(test_open, color = 'red', label = 'Real Open Google Stock Price')\n",
        "plt.plot(pred_open__2, color = 'blue', label = 'Predicted Open Google Stock Price')\n",
        "plt.title('Google Stock Price Prediction')\n",
        "plt.xlabel('Time')\n",
        "plt.ylabel('Google Open Stock Price')\n",
        "plt.legend()\n",
        "plt.show()"
      ],
      "metadata": {
        "id": "KzTng8I8I0jL"
      },
      "execution_count": null,
      "outputs": []
    },
    {
      "cell_type": "code",
      "source": [
        "a = test_open.flatten()\n",
        "err=0\n",
        "b = pred_open__2.flatten()\n",
        "from sklearn.metrics import mean_squared_error as mse\n",
        "err = mse(a, b)\n",
        "print(err)"
      ],
      "metadata": {
        "id": "4nZQsxHnGyMb"
      },
      "execution_count": null,
      "outputs": []
    },
    {
      "cell_type": "code",
      "source": [
        "def vis(data_org, data_gen, x):\n",
        "  plt.plot(data_org, color = 'red', label = 'Real' + x + 'Google Stock Price')\n",
        "  plt.plot(data_gen, color = 'blue', label = 'Predicted' + x + 'Google Stock Price')\n",
        "  plt.title('Google Stock Price Prediction')\n",
        "  plt.xlabel('Time')\n",
        "  plt.ylabel(x)\n",
        "  plt.legend()\n",
        "  plt.show()"
      ],
      "metadata": {
        "id": "uV-1Fo9nKaUJ"
      },
      "execution_count": null,
      "outputs": []
    },
    {
      "cell_type": "markdown",
      "source": [
        "Future Prediction Pipeline Using some of the above used models\n"
      ],
      "metadata": {
        "id": "B7Wu4KDX4m_R"
      }
    },
    {
      "cell_type": "code",
      "source": [
        "train_data_open_20 = []\n",
        "y_train_data_open_20 = []\n",
        "x_lr_20 = train_open.flatten()\n",
        "y_lr_20 = test_open.flatten()\n",
        "\n",
        "full_train_lr_20 = np.concatenate([x_lr_20, y_lr_20])\n",
        "full_train_lr_20_ = np.reshape(full_train_lr_20, (len(full_train_lr_20), 1))\n",
        "for i in range(20, len(full_train_lr_20)):\n",
        "    train_data_open_20.append(full_train_lr_20_.flatten()[i-20:i])\n",
        "    y_train_data_open_20.append(full_train_lr_20_.flatten()[i])\n",
        "train_data_open_20 = np.array(train_data_open_20)\n",
        "y_train_data_open_20 = np.array(y_train_data_open_20)\n",
        "\n",
        "train_data_open_20.shape"
      ],
      "metadata": {
        "colab": {
          "base_uri": "https://localhost:8080/"
        },
        "id": "Hpy1svMO4uRs",
        "outputId": "cdf0038b-2378-42fc-8a57-2731eaff5e2d"
      },
      "execution_count": null,
      "outputs": [
        {
          "output_type": "execute_result",
          "data": {
            "text/plain": [
              "(1258, 20)"
            ]
          },
          "metadata": {},
          "execution_count": 78
        }
      ]
    },
    {
      "cell_type": "code",
      "source": [
        "from sklearn.linear_model import LinearRegression\n",
        "reg_20 = LinearRegression()\n",
        "reg_20.fit(train_data_open_20, y_train_data_open_20)\n"
      ],
      "metadata": {
        "colab": {
          "base_uri": "https://localhost:8080/"
        },
        "id": "YHo8EdxPC5xq",
        "outputId": "617e705e-888b-4382-d948-d66e388e1218"
      },
      "execution_count": null,
      "outputs": [
        {
          "output_type": "execute_result",
          "data": {
            "text/plain": [
              "LinearRegression()"
            ]
          },
          "metadata": {},
          "execution_count": 79
        }
      ]
    },
    {
      "cell_type": "code",
      "source": [
        "y_pred_lr_20 = []\n",
        "def future_pred_lr_20(point):\n",
        "    new_test_data = test_open.flatten()\n",
        "    new_test_data_20 = np.reshape(new_test_data, (len(new_test_data), 1))\n",
        "    \n",
        "    for i in range(point):\n",
        "      X_test_20 = []\n",
        "      X_test_20.append(new_test_data_20.flatten()[i:])\n",
        "      X_test_20 = np.array(X_test_20)\n",
        "      a = reg_20.predict(X_test_20)\n",
        "      y_pred_lr_20.append(a)\n",
        "      new_test_data_20 = np.concatenate([new_test_data_20.flatten(), a])\n",
        "      new_test_data_20 = np.reshape(new_test_data_20, (len(new_test_data_20), 1))\n",
        "\n",
        "  \n",
        "future_pred_lr_20(10)\n",
        "y_pred_lr_20\n",
        "      \n",
        "\n"
      ],
      "metadata": {
        "colab": {
          "base_uri": "https://localhost:8080/"
        },
        "id": "JHEkgC2U_U3c",
        "outputId": "8495a34c-04f7-46ee-c617-9e5376ee7ac5"
      },
      "execution_count": null,
      "outputs": [
        {
          "output_type": "execute_result",
          "data": {
            "text/plain": [
              "[array([797.17482875]),\n",
              " array([797.43289792]),\n",
              " array([799.65239912]),\n",
              " array([801.47413478]),\n",
              " array([802.3494023]),\n",
              " array([801.53129396]),\n",
              " array([801.50492645]),\n",
              " array([802.16384904]),\n",
              " array([803.02921732]),\n",
              " array([804.28401083])]"
            ]
          },
          "metadata": {},
          "execution_count": 85
        }
      ]
    },
    {
      "cell_type": "code",
      "source": [
        "y_future_lr_20 = np.concatenate([test_open.flatten(), np.array(y_pred_lr_20).flatten()])\n"
      ],
      "metadata": {
        "id": "9YgTe--k-_Gg"
      },
      "execution_count": null,
      "outputs": []
    },
    {
      "cell_type": "code",
      "source": [
        "plt.plot(y_future_lr_20, color = 'blue', label = 'Including Future Google Stock Price')\n",
        "\n",
        "plt.plot(test_open.flatten(), color = 'red', label = 'Real Open Google Stock Price')\n",
        "plt.title('Google Stock Price Prediction')\n",
        "plt.xlabel('Time')\n",
        "plt.ylabel('Price')\n",
        "plt.legend()\n",
        "plt.show()"
      ],
      "metadata": {
        "colab": {
          "base_uri": "https://localhost:8080/",
          "height": 295
        },
        "id": "T8likmemGdHv",
        "outputId": "bc694f82-900d-4e4f-bf55-4009dd2b8f8e"
      },
      "execution_count": null,
      "outputs": [
        {
          "output_type": "display_data",
          "data": {
            "text/plain": [
              "<Figure size 432x288 with 1 Axes>"
            ],
            "image/png": "[encoded data removed]"
          },
          "metadata": {
            "needs_background": "light"
          }
        }
      ]
    },
    {
      "cell_type": "code",
      "source": [
        "train_data_open_40 = []\n",
        "y_train_data_open_40 = []\n",
        "x_lr_40 = train_open.flatten()\n",
        "y_lr_40 = test_open.flatten()\n",
        "\n",
        "full_train_lr_40 = np.concatenate([x_lr_40, y_lr_40])\n",
        "full_train_lr_40_ = np.reshape(full_train_lr_40, (len(full_train_lr_40), 1))\n",
        "for i in range(40, len(full_train_lr_40)):\n",
        "    train_data_open_40.append(full_train_lr_40_.flatten()[i-40:i])\n",
        "    y_train_data_open_40.append(full_train_lr_40_.flatten()[i])\n",
        "train_data_open_40 = np.array(train_data_open_40)\n",
        "y_train_data_open_40 = np.array(y_train_data_open_40)\n",
        "\n",
        "train_data_open_40.shape"
      ],
      "metadata": {
        "colab": {
          "base_uri": "https://localhost:8080/"
        },
        "id": "KqsxuE4cIYgm",
        "outputId": "50df6e7a-7155-4ef8-a0c2-ad1f238c13fc"
      },
      "execution_count": null,
      "outputs": [
        {
          "output_type": "execute_result",
          "data": {
            "text/plain": [
              "(1238, 40)"
            ]
          },
          "metadata": {},
          "execution_count": 102
        }
      ]
    },
    {
      "cell_type": "code",
      "source": [
        "from sklearn.linear_model import LinearRegression\n",
        "reg_40 = LinearRegression()\n",
        "reg_40.fit(train_data_open_40, y_train_data_open_40)"
      ],
      "metadata": {
        "colab": {
          "base_uri": "https://localhost:8080/"
        },
        "id": "-KMz0F_NIbf3",
        "outputId": "867eef36-ae73-4070-f7c8-4c9ea8cba7b8"
      },
      "execution_count": null,
      "outputs": [
        {
          "output_type": "execute_result",
          "data": {
            "text/plain": [
              "LinearRegression()"
            ]
          },
          "metadata": {},
          "execution_count": 103
        }
      ]
    },
    {
      "cell_type": "code",
      "source": [
        "y_pred_lr_40 = []\n",
        "def future_pred_lr_40(point):\n",
        "    x_40 = train_open.flatten()\n",
        "    req_train_40 = x_40[len(x_40)-20:]\n",
        "    y_40 = test_open.flatten()\n",
        "    z_40 = np.concatenate([req_train_40, y_40])\n",
        "    new_test_data = z_40.flatten()\n",
        "    new_test_data_40 = np.reshape(new_test_data, (len(new_test_data), 1))\n",
        "    \n",
        "    for i in range(point):\n",
        "      X_test_40 = []\n",
        "      X_test_40.append(new_test_data_40.flatten()[i:])\n",
        "      X_test_40 = np.array(X_test_40)\n",
        "      a = reg_40.predict(X_test_40)\n",
        "      y_pred_lr_40.append(a)\n",
        "      new_test_data_40 = np.concatenate([new_test_data_40.flatten(), a])\n",
        "      new_test_data_40 = np.reshape(new_test_data_40, (len(new_test_data_40), 1))\n",
        "\n",
        "  \n",
        "future_pred_lr_40(10)\n",
        "y_pred_lr_40\n",
        "      \n",
        "\n"
      ],
      "metadata": {
        "colab": {
          "base_uri": "https://localhost:8080/"
        },
        "id": "NVyenxUKKI2Y",
        "outputId": "42754f9b-06f3-4d0d-b945-c1cd42e7b339"
      },
      "execution_count": null,
      "outputs": [
        {
          "output_type": "execute_result",
          "data": {
            "text/plain": [
              "[array([798.34094866]),\n",
              " array([799.10951839]),\n",
              " array([800.68334755]),\n",
              " array([803.84371636]),\n",
              " array([806.22362898]),\n",
              " array([806.62447378]),\n",
              " array([806.92074628]),\n",
              " array([806.02770848]),\n",
              " array([807.88213341]),\n",
              " array([808.53878628])]"
            ]
          },
          "metadata": {},
          "execution_count": 104
        }
      ]
    },
    {
      "cell_type": "code",
      "source": [
        "y_future_lr_40 = np.concatenate([test_open.flatten(), np.array(y_pred_lr_40).flatten()])\n"
      ],
      "metadata": {
        "id": "b9w6VGD2LLZv"
      },
      "execution_count": null,
      "outputs": []
    },
    {
      "cell_type": "code",
      "source": [
        "plt.plot(y_future_lr_40, color = 'blue', label = 'Including Future Google Stock Price')\n",
        "\n",
        "plt.plot(test_open.flatten(), color = 'red', label = 'Real Open Google Stock Price')\n",
        "plt.title('Google Stock Price Prediction')\n",
        "plt.xlabel('Time')\n",
        "plt.ylabel('Price')\n",
        "plt.legend()\n",
        "plt.show()"
      ],
      "metadata": {
        "colab": {
          "base_uri": "https://localhost:8080/",
          "height": 295
        },
        "id": "qVcu7_bNLN34",
        "outputId": "dc14651c-d57e-448f-e796-c965c43b8463"
      },
      "execution_count": null,
      "outputs": [
        {
          "output_type": "display_data",
          "data": {
            "text/plain": [
              "<Figure size 432x288 with 1 Axes>"
            ],
            "image/png": "[encoded data removed]"
          },
          "metadata": {
            "needs_background": "light"
          }
        }
      ]
    },
    {
      "cell_type": "code",
      "source": [
        ""
      ],
      "metadata": {
        "id": "w9gT7cdGLWdw"
      },
      "execution_count": null,
      "outputs": []
    }
  ]
}